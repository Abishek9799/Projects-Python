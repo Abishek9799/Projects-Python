{
 "cells": [
  {
   "cell_type": "markdown",
   "metadata": {},
   "source": [
    "# Text Classification for Airline Tweet Classification"
   ]
  },
  {
   "cell_type": "code",
   "execution_count": 1,
   "metadata": {
    "_cell_guid": "b1076dfc-b9ad-4769-8c92-a6c4dae69d19",
    "_uuid": "8f2839f25d086af736a60e9eeb907d3b93b6e0e5"
   },
   "outputs": [],
   "source": [
    "import numpy as np\n",
    "import pandas as pd\n",
    "from sklearn import preprocessing"
   ]
  },
  {
   "cell_type": "markdown",
   "metadata": {},
   "source": [
    "# Load Data"
   ]
  },
  {
   "cell_type": "code",
   "execution_count": 2,
   "metadata": {
    "_cell_guid": "79c7e3d0-c299-4dcb-8224-4455121ee9b0",
    "_uuid": "d629ff2d2480ee46fbb7e2d37f6b5fab8052498a"
   },
   "outputs": [],
   "source": [
    "# Loading data and picking important features\n",
    "data = pd.read_csv('Tweets.csv')\n",
    "data = data[['airline_sentiment', 'text']]"
   ]
  },
  {
   "cell_type": "code",
   "execution_count": 3,
   "metadata": {},
   "outputs": [
    {
     "data": {
      "text/html": [
       "<div>\n",
       "<style scoped>\n",
       "    .dataframe tbody tr th:only-of-type {\n",
       "        vertical-align: middle;\n",
       "    }\n",
       "\n",
       "    .dataframe tbody tr th {\n",
       "        vertical-align: top;\n",
       "    }\n",
       "\n",
       "    .dataframe thead th {\n",
       "        text-align: right;\n",
       "    }\n",
       "</style>\n",
       "<table border=\"1\" class=\"dataframe\">\n",
       "  <thead>\n",
       "    <tr style=\"text-align: right;\">\n",
       "      <th></th>\n",
       "      <th>airline_sentiment</th>\n",
       "      <th>text</th>\n",
       "    </tr>\n",
       "  </thead>\n",
       "  <tbody>\n",
       "    <tr>\n",
       "      <td>0</td>\n",
       "      <td>neutral</td>\n",
       "      <td>@VirginAmerica What @dhepburn said.</td>\n",
       "    </tr>\n",
       "    <tr>\n",
       "      <td>1</td>\n",
       "      <td>positive</td>\n",
       "      <td>@VirginAmerica plus you've added commercials t...</td>\n",
       "    </tr>\n",
       "    <tr>\n",
       "      <td>2</td>\n",
       "      <td>neutral</td>\n",
       "      <td>@VirginAmerica I didn't today... Must mean I n...</td>\n",
       "    </tr>\n",
       "    <tr>\n",
       "      <td>3</td>\n",
       "      <td>negative</td>\n",
       "      <td>@VirginAmerica it's really aggressive to blast...</td>\n",
       "    </tr>\n",
       "    <tr>\n",
       "      <td>4</td>\n",
       "      <td>negative</td>\n",
       "      <td>@VirginAmerica and it's a really big bad thing...</td>\n",
       "    </tr>\n",
       "    <tr>\n",
       "      <td>...</td>\n",
       "      <td>...</td>\n",
       "      <td>...</td>\n",
       "    </tr>\n",
       "    <tr>\n",
       "      <td>95</td>\n",
       "      <td>negative</td>\n",
       "      <td>@VirginAmerica Is it me, or is your website do...</td>\n",
       "    </tr>\n",
       "    <tr>\n",
       "      <td>96</td>\n",
       "      <td>negative</td>\n",
       "      <td>@VirginAmerica I can't check in or add a bag. ...</td>\n",
       "    </tr>\n",
       "    <tr>\n",
       "      <td>97</td>\n",
       "      <td>negative</td>\n",
       "      <td>@VirginAmerica - Let 2 scanned in passengers l...</td>\n",
       "    </tr>\n",
       "    <tr>\n",
       "      <td>98</td>\n",
       "      <td>negative</td>\n",
       "      <td>@virginamerica What is your phone number. I ca...</td>\n",
       "    </tr>\n",
       "    <tr>\n",
       "      <td>99</td>\n",
       "      <td>negative</td>\n",
       "      <td>@VirginAmerica is anyone doing anything there ...</td>\n",
       "    </tr>\n",
       "  </tbody>\n",
       "</table>\n",
       "<p>100 rows × 2 columns</p>\n",
       "</div>"
      ],
      "text/plain": [
       "   airline_sentiment                                               text\n",
       "0            neutral                @VirginAmerica What @dhepburn said.\n",
       "1           positive  @VirginAmerica plus you've added commercials t...\n",
       "2            neutral  @VirginAmerica I didn't today... Must mean I n...\n",
       "3           negative  @VirginAmerica it's really aggressive to blast...\n",
       "4           negative  @VirginAmerica and it's a really big bad thing...\n",
       "..               ...                                                ...\n",
       "95          negative  @VirginAmerica Is it me, or is your website do...\n",
       "96          negative  @VirginAmerica I can't check in or add a bag. ...\n",
       "97          negative  @VirginAmerica - Let 2 scanned in passengers l...\n",
       "98          negative  @virginamerica What is your phone number. I ca...\n",
       "99          negative  @VirginAmerica is anyone doing anything there ...\n",
       "\n",
       "[100 rows x 2 columns]"
      ]
     },
     "execution_count": 3,
     "metadata": {},
     "output_type": "execute_result"
    }
   ],
   "source": [
    "data.head(100)"
   ]
  },
  {
   "cell_type": "code",
   "execution_count": 4,
   "metadata": {},
   "outputs": [
    {
     "name": "stderr",
     "output_type": "stream",
     "text": [
      "C:\\Users\\abish\\Anaconda3\\lib\\site-packages\\ipykernel_launcher.py:2: SettingWithCopyWarning: \n",
      "A value is trying to be set on a copy of a slice from a DataFrame.\n",
      "Try using .loc[row_indexer,col_indexer] = value instead\n",
      "\n",
      "See the caveats in the documentation: http://pandas.pydata.org/pandas-docs/stable/user_guide/indexing.html#returning-a-view-versus-a-copy\n",
      "  \n"
     ]
    }
   ],
   "source": [
    "raw_data = data[data['airline_sentiment']!='neutral']\n",
    "raw_data['row_id'] = np.arange(len(raw_data))\n",
    "raw_data= raw_data.set_index('row_id')"
   ]
  },
  {
   "cell_type": "code",
   "execution_count": 5,
   "metadata": {},
   "outputs": [],
   "source": [
    "raw_data = raw_data.astype({ \"text\": 'str'})"
   ]
  },
  {
   "cell_type": "code",
   "execution_count": 6,
   "metadata": {},
   "outputs": [
    {
     "name": "stderr",
     "output_type": "stream",
     "text": [
      "[nltk_data] Downloading package punkt to\n",
      "[nltk_data]     C:\\Users\\abish\\AppData\\Roaming\\nltk_data...\n",
      "[nltk_data]   Package punkt is already up-to-date!\n",
      "[nltk_data] Downloading package averaged_perceptron_tagger to\n",
      "[nltk_data]     C:\\Users\\abish\\AppData\\Roaming\\nltk_data...\n",
      "[nltk_data]   Package averaged_perceptron_tagger is already up-to-\n",
      "[nltk_data]       date!\n",
      "[nltk_data] Downloading package wordnet to\n",
      "[nltk_data]     C:\\Users\\abish\\AppData\\Roaming\\nltk_data...\n",
      "[nltk_data]   Package wordnet is already up-to-date!\n"
     ]
    }
   ],
   "source": [
    "import nltk \n",
    "nltk.download('punkt') \n",
    "nltk.download('averaged_perceptron_tagger') \n",
    "nltk.download('wordnet') \n",
    "from sklearn.feature_extraction.text import TfidfVectorizer\n",
    "from nltk.corpus import stopwords \n",
    "from nltk.stem import WordNetLemmatizer "
   ]
  },
  {
   "cell_type": "code",
   "execution_count": 7,
   "metadata": {},
   "outputs": [
    {
     "name": "stderr",
     "output_type": "stream",
     "text": [
      "[nltk_data] Downloading package stopwords to\n",
      "[nltk_data]     C:\\Users\\abish\\AppData\\Roaming\\nltk_data...\n",
      "[nltk_data]   Package stopwords is already up-to-date!\n"
     ]
    }
   ],
   "source": [
    "tfidfvec = TfidfVectorizer() \n",
    "lemmatizer = WordNetLemmatizer() \n",
    "nltk.download('stopwords') \n",
    "stop_words = set(stopwords.words('english')) \n",
    "VERB_CODES = {'VB', 'VBD', 'VBG', 'VBN', 'VBP', 'VBZ'} "
   ]
  },
  {
   "cell_type": "code",
   "execution_count": 8,
   "metadata": {},
   "outputs": [],
   "source": [
    "def preprocess(text1):\n",
    "    text1=text1.lower()  #changing the words to lower case\n",
    "    Temp=[] \n",
    "    words = nltk.word_tokenize(text1) # tokenizing the words\n",
    "    tags = nltk.pos_tag(words) #tagging the words\n",
    "    for i, word in enumerate(words): \n",
    "        if tags[i][1] in VERB_CODES:  \n",
    "            lemmatized = lemmatizer.lemmatize(word, 'v') \n",
    "        else: \n",
    "            lemmatized = lemmatizer.lemmatize(word) \n",
    "        if lemmatized not in stop_words and lemmatized.isalpha(): \n",
    "            Temp.append(lemmatized) \n",
    "    Final_sentence = ' '.join(Temp) #below are the transformation of the words to standard form\n",
    "    Final_sentence = Final_sentence.replace(\"n't\", \" not\") \n",
    "    Final_sentence = Final_sentence.replace(\"'m\", \" am\") \n",
    "    Final_sentence = Final_sentence.replace(\"'s\", \" is\") \n",
    "    Final_sentence = Final_sentence.replace(\"'re\", \" are\") \n",
    "    Final_sentence = Final_sentence.replace(\"'ll\", \" will\") \n",
    "    Final_sentence = Final_sentence.replace(\"'ve\", \" have\") \n",
    "    Final_sentence = Final_sentence.replace(\"'d\", \" would\") \n",
    "    return Final_sentence"
   ]
  },
  {
   "cell_type": "code",
   "execution_count": 9,
   "metadata": {},
   "outputs": [],
   "source": [
    "raw_data[\"Text_Processed\"]= raw_data['text'].apply(preprocess)"
   ]
  },
  {
   "cell_type": "code",
   "execution_count": 10,
   "metadata": {},
   "outputs": [
    {
     "data": {
      "text/html": [
       "<div>\n",
       "<style scoped>\n",
       "    .dataframe tbody tr th:only-of-type {\n",
       "        vertical-align: middle;\n",
       "    }\n",
       "\n",
       "    .dataframe tbody tr th {\n",
       "        vertical-align: top;\n",
       "    }\n",
       "\n",
       "    .dataframe thead th {\n",
       "        text-align: right;\n",
       "    }\n",
       "</style>\n",
       "<table border=\"1\" class=\"dataframe\">\n",
       "  <thead>\n",
       "    <tr style=\"text-align: right;\">\n",
       "      <th></th>\n",
       "      <th>airline_sentiment</th>\n",
       "      <th>text</th>\n",
       "      <th>Text_Processed</th>\n",
       "    </tr>\n",
       "    <tr>\n",
       "      <th>row_id</th>\n",
       "      <th></th>\n",
       "      <th></th>\n",
       "      <th></th>\n",
       "    </tr>\n",
       "  </thead>\n",
       "  <tbody>\n",
       "    <tr>\n",
       "      <td>0</td>\n",
       "      <td>positive</td>\n",
       "      <td>@VirginAmerica plus you've added commercials t...</td>\n",
       "      <td>virginamerica plus add commercial experience t...</td>\n",
       "    </tr>\n",
       "    <tr>\n",
       "      <td>1</td>\n",
       "      <td>negative</td>\n",
       "      <td>@VirginAmerica it's really aggressive to blast...</td>\n",
       "      <td>virginamerica really aggressive blast obnoxiou...</td>\n",
       "    </tr>\n",
       "    <tr>\n",
       "      <td>2</td>\n",
       "      <td>negative</td>\n",
       "      <td>@VirginAmerica and it's a really big bad thing...</td>\n",
       "      <td>virginamerica really big bad thing</td>\n",
       "    </tr>\n",
       "    <tr>\n",
       "      <td>3</td>\n",
       "      <td>negative</td>\n",
       "      <td>@VirginAmerica seriously would pay $30 a fligh...</td>\n",
       "      <td>virginamerica seriously would pay flight seat ...</td>\n",
       "    </tr>\n",
       "    <tr>\n",
       "      <td>4</td>\n",
       "      <td>positive</td>\n",
       "      <td>@VirginAmerica yes, nearly every time I fly VX...</td>\n",
       "      <td>virginamerica yes nearly every time fly vx ear...</td>\n",
       "    </tr>\n",
       "    <tr>\n",
       "      <td>...</td>\n",
       "      <td>...</td>\n",
       "      <td>...</td>\n",
       "      <td>...</td>\n",
       "    </tr>\n",
       "    <tr>\n",
       "      <td>11536</td>\n",
       "      <td>negative</td>\n",
       "      <td>@AmericanAir my flight was Cancelled Flightled...</td>\n",
       "      <td>americanair flight cancel flightled leave tomo...</td>\n",
       "    </tr>\n",
       "    <tr>\n",
       "      <td>11537</td>\n",
       "      <td>negative</td>\n",
       "      <td>@AmericanAir right on cue with the delays👌</td>\n",
       "      <td>americanair right cue</td>\n",
       "    </tr>\n",
       "    <tr>\n",
       "      <td>11538</td>\n",
       "      <td>positive</td>\n",
       "      <td>@AmericanAir thank you we got on a different f...</td>\n",
       "      <td>americanair thank get different flight chicago</td>\n",
       "    </tr>\n",
       "    <tr>\n",
       "      <td>11539</td>\n",
       "      <td>negative</td>\n",
       "      <td>@AmericanAir leaving over 20 minutes Late Flig...</td>\n",
       "      <td>americanair leave minute late flight warning c...</td>\n",
       "    </tr>\n",
       "    <tr>\n",
       "      <td>11540</td>\n",
       "      <td>negative</td>\n",
       "      <td>@AmericanAir you have my money, you change my ...</td>\n",
       "      <td>americanair money change flight answer phone s...</td>\n",
       "    </tr>\n",
       "  </tbody>\n",
       "</table>\n",
       "<p>11541 rows × 3 columns</p>\n",
       "</div>"
      ],
      "text/plain": [
       "       airline_sentiment                                               text  \\\n",
       "row_id                                                                        \n",
       "0               positive  @VirginAmerica plus you've added commercials t...   \n",
       "1               negative  @VirginAmerica it's really aggressive to blast...   \n",
       "2               negative  @VirginAmerica and it's a really big bad thing...   \n",
       "3               negative  @VirginAmerica seriously would pay $30 a fligh...   \n",
       "4               positive  @VirginAmerica yes, nearly every time I fly VX...   \n",
       "...                  ...                                                ...   \n",
       "11536           negative  @AmericanAir my flight was Cancelled Flightled...   \n",
       "11537           negative         @AmericanAir right on cue with the delays👌   \n",
       "11538           positive  @AmericanAir thank you we got on a different f...   \n",
       "11539           negative  @AmericanAir leaving over 20 minutes Late Flig...   \n",
       "11540           negative  @AmericanAir you have my money, you change my ...   \n",
       "\n",
       "                                           Text_Processed  \n",
       "row_id                                                     \n",
       "0       virginamerica plus add commercial experience t...  \n",
       "1       virginamerica really aggressive blast obnoxiou...  \n",
       "2                      virginamerica really big bad thing  \n",
       "3       virginamerica seriously would pay flight seat ...  \n",
       "4       virginamerica yes nearly every time fly vx ear...  \n",
       "...                                                   ...  \n",
       "11536   americanair flight cancel flightled leave tomo...  \n",
       "11537                               americanair right cue  \n",
       "11538      americanair thank get different flight chicago  \n",
       "11539   americanair leave minute late flight warning c...  \n",
       "11540   americanair money change flight answer phone s...  \n",
       "\n",
       "[11541 rows x 3 columns]"
      ]
     },
     "execution_count": 10,
     "metadata": {},
     "output_type": "execute_result"
    }
   ],
   "source": [
    "raw_data"
   ]
  },
  {
   "cell_type": "code",
   "execution_count": 11,
   "metadata": {},
   "outputs": [],
   "source": [
    "tfidf = tfidfvec.fit_transform(raw_data[\"Text_Processed\"])\n",
    "feature_names = tfidfvec.get_feature_names()\n",
    "dense = tfidf.todense()\n",
    "denselist = dense.tolist()\n",
    "df = pd.DataFrame(denselist, columns=feature_names)"
   ]
  },
  {
   "cell_type": "code",
   "execution_count": 12,
   "metadata": {},
   "outputs": [],
   "source": [
    "X = df.loc[:, :]\n",
    "Y = raw_data['airline_sentiment']\n",
    "\n",
    "X = np.array(X)\n",
    "Y = np.array(Y)\n",
    "\n",
    "#label Encoding\n",
    "le = preprocessing.LabelEncoder()\n",
    "Y = le.fit_transform(Y)"
   ]
  },
  {
   "cell_type": "code",
   "execution_count": 13,
   "metadata": {},
   "outputs": [],
   "source": [
    "from sklearn.model_selection import train_test_split\n",
    "X_train, X_test, y_train, y_test = train_test_split(X, Y, test_size=0.3, random_state=42)"
   ]
  },
  {
   "cell_type": "markdown",
   "metadata": {},
   "source": [
    "## Part 1: Let's Start with SVM (svm.LinearSVC), Let's try to add balanced weight to handle the class-imbalance issue. \n",
    "\n",
    "(a) Let's try to add penalty 'l1' & 'l2' and using cross validation to select the best tuning parameters C.\n",
    "\n",
    "(b) Computing the precision/recall, f1-score, and confusion matrix. \n"
   ]
  },
  {
   "cell_type": "code",
   "execution_count": 14,
   "metadata": {},
   "outputs": [],
   "source": [
    "from sklearn import svm\n",
    "from sklearn.metrics import classification_report\n",
    "from sklearn.metrics import confusion_matrix\n",
    "from sklearn.model_selection import GridSearchCV "
   ]
  },
  {
   "cell_type": "code",
   "execution_count": 15,
   "metadata": {},
   "outputs": [
    {
     "name": "stderr",
     "output_type": "stream",
     "text": [
      "C:\\Users\\abish\\Anaconda3\\lib\\site-packages\\sklearn\\svm\\_base.py:977: ConvergenceWarning: Liblinear failed to converge, increase the number of iterations.\n",
      "  \"the number of iterations.\", ConvergenceWarning)\n"
     ]
    },
    {
     "name": "stdout",
     "output_type": "stream",
     "text": [
      "\n",
      " Confusion Matrix: \n",
      "[[2524  247]\n",
      " [ 207  485]]\n",
      "              precision    recall  f1-score   support\n",
      "\n",
      "           0       0.92      0.91      0.92      2771\n",
      "           1       0.66      0.70      0.68       692\n",
      "\n",
      "    accuracy                           0.87      3463\n",
      "   macro avg       0.79      0.81      0.80      3463\n",
      "weighted avg       0.87      0.87      0.87      3463\n",
      "\n"
     ]
    }
   ],
   "source": [
    "clf = svm.LinearSVC(class_weight='balanced',C=1e20)\n",
    "clf.fit(X_train, y_train)\n",
    "clf.score(X_test, y_test)\n",
    "pred = clf.predict(X_test)\n",
    "CM = confusion_matrix(y_test, pred)\n",
    "print(f\"\\n Confusion Matrix: \\n{CM}\")\n",
    "print(classification_report(y_test, pred))"
   ]
  },
  {
   "cell_type": "code",
   "execution_count": 16,
   "metadata": {},
   "outputs": [
    {
     "name": "stderr",
     "output_type": "stream",
     "text": [
      "C:\\Users\\abish\\Anaconda3\\lib\\site-packages\\sklearn\\svm\\_base.py:977: ConvergenceWarning: Liblinear failed to converge, increase the number of iterations.\n",
      "  \"the number of iterations.\", ConvergenceWarning)\n",
      "C:\\Users\\abish\\Anaconda3\\lib\\site-packages\\sklearn\\svm\\_base.py:977: ConvergenceWarning: Liblinear failed to converge, increase the number of iterations.\n",
      "  \"the number of iterations.\", ConvergenceWarning)\n",
      "C:\\Users\\abish\\Anaconda3\\lib\\site-packages\\sklearn\\svm\\_base.py:977: ConvergenceWarning: Liblinear failed to converge, increase the number of iterations.\n",
      "  \"the number of iterations.\", ConvergenceWarning)\n",
      "C:\\Users\\abish\\Anaconda3\\lib\\site-packages\\sklearn\\svm\\_base.py:977: ConvergenceWarning: Liblinear failed to converge, increase the number of iterations.\n",
      "  \"the number of iterations.\", ConvergenceWarning)\n",
      "C:\\Users\\abish\\Anaconda3\\lib\\site-packages\\sklearn\\svm\\_base.py:977: ConvergenceWarning: Liblinear failed to converge, increase the number of iterations.\n",
      "  \"the number of iterations.\", ConvergenceWarning)\n",
      "C:\\Users\\abish\\Anaconda3\\lib\\site-packages\\sklearn\\svm\\_base.py:977: ConvergenceWarning: Liblinear failed to converge, increase the number of iterations.\n",
      "  \"the number of iterations.\", ConvergenceWarning)\n",
      "C:\\Users\\abish\\Anaconda3\\lib\\site-packages\\sklearn\\svm\\_base.py:977: ConvergenceWarning: Liblinear failed to converge, increase the number of iterations.\n",
      "  \"the number of iterations.\", ConvergenceWarning)\n",
      "C:\\Users\\abish\\Anaconda3\\lib\\site-packages\\sklearn\\svm\\_base.py:977: ConvergenceWarning: Liblinear failed to converge, increase the number of iterations.\n",
      "  \"the number of iterations.\", ConvergenceWarning)\n",
      "C:\\Users\\abish\\Anaconda3\\lib\\site-packages\\sklearn\\svm\\_base.py:977: ConvergenceWarning: Liblinear failed to converge, increase the number of iterations.\n",
      "  \"the number of iterations.\", ConvergenceWarning)\n",
      "C:\\Users\\abish\\Anaconda3\\lib\\site-packages\\sklearn\\svm\\_base.py:977: ConvergenceWarning: Liblinear failed to converge, increase the number of iterations.\n",
      "  \"the number of iterations.\", ConvergenceWarning)\n",
      "C:\\Users\\abish\\Anaconda3\\lib\\site-packages\\sklearn\\svm\\_base.py:977: ConvergenceWarning: Liblinear failed to converge, increase the number of iterations.\n",
      "  \"the number of iterations.\", ConvergenceWarning)\n",
      "C:\\Users\\abish\\Anaconda3\\lib\\site-packages\\sklearn\\svm\\_base.py:977: ConvergenceWarning: Liblinear failed to converge, increase the number of iterations.\n",
      "  \"the number of iterations.\", ConvergenceWarning)\n",
      "C:\\Users\\abish\\Anaconda3\\lib\\site-packages\\sklearn\\svm\\_base.py:977: ConvergenceWarning: Liblinear failed to converge, increase the number of iterations.\n",
      "  \"the number of iterations.\", ConvergenceWarning)\n",
      "C:\\Users\\abish\\Anaconda3\\lib\\site-packages\\sklearn\\svm\\_base.py:977: ConvergenceWarning: Liblinear failed to converge, increase the number of iterations.\n",
      "  \"the number of iterations.\", ConvergenceWarning)\n",
      "C:\\Users\\abish\\Anaconda3\\lib\\site-packages\\sklearn\\svm\\_base.py:977: ConvergenceWarning: Liblinear failed to converge, increase the number of iterations.\n",
      "  \"the number of iterations.\", ConvergenceWarning)\n",
      "C:\\Users\\abish\\Anaconda3\\lib\\site-packages\\sklearn\\svm\\_base.py:977: ConvergenceWarning: Liblinear failed to converge, increase the number of iterations.\n",
      "  \"the number of iterations.\", ConvergenceWarning)\n",
      "C:\\Users\\abish\\Anaconda3\\lib\\site-packages\\sklearn\\svm\\_base.py:977: ConvergenceWarning: Liblinear failed to converge, increase the number of iterations.\n",
      "  \"the number of iterations.\", ConvergenceWarning)\n",
      "C:\\Users\\abish\\Anaconda3\\lib\\site-packages\\sklearn\\svm\\_base.py:977: ConvergenceWarning: Liblinear failed to converge, increase the number of iterations.\n",
      "  \"the number of iterations.\", ConvergenceWarning)\n",
      "C:\\Users\\abish\\Anaconda3\\lib\\site-packages\\sklearn\\svm\\_base.py:977: ConvergenceWarning: Liblinear failed to converge, increase the number of iterations.\n",
      "  \"the number of iterations.\", ConvergenceWarning)\n",
      "C:\\Users\\abish\\Anaconda3\\lib\\site-packages\\sklearn\\svm\\_base.py:977: ConvergenceWarning: Liblinear failed to converge, increase the number of iterations.\n",
      "  \"the number of iterations.\", ConvergenceWarning)\n"
     ]
    },
    {
     "name": "stdout",
     "output_type": "stream",
     "text": [
      "Best Tuning Parameter C for L1: {'C': 1}\n",
      "\n",
      " Confusion Matrix: \n",
      "[[2568  203]\n",
      " [ 149  543]]\n",
      "              precision    recall  f1-score   support\n",
      "\n",
      "           0       0.95      0.93      0.94      2771\n",
      "           1       0.73      0.78      0.76       692\n",
      "\n",
      "    accuracy                           0.90      3463\n",
      "   macro avg       0.84      0.86      0.85      3463\n",
      "weighted avg       0.90      0.90      0.90      3463\n",
      "\n"
     ]
    }
   ],
   "source": [
    "param_grid = {'C': [0.001,0.01,0.02,0.03, 0.05, 0.1, 0.5, 1, 5, 10, 100, 1000]}\n",
    "clf_l1 = svm.LinearSVC(penalty='l1', loss='squared_hinge',class_weight='balanced',dual = False)\n",
    "l1 = GridSearchCV(clf_l1, param_grid, refit = True)\n",
    "l1.fit(X_train, y_train) \n",
    "print(f\"Best Tuning Parameter C for L1: {l1.best_params_}\")  \n",
    "l1.score(X_test, y_test)\n",
    "pred1 = l1.predict(X_test)\n",
    "CM1 = confusion_matrix(y_test, pred1)\n",
    "print(f\"\\n Confusion Matrix: \\n{CM1}\")\n",
    "print(classification_report(y_test, pred1))"
   ]
  },
  {
   "cell_type": "code",
   "execution_count": 17,
   "metadata": {},
   "outputs": [
    {
     "name": "stderr",
     "output_type": "stream",
     "text": [
      "C:\\Users\\abish\\Anaconda3\\lib\\site-packages\\sklearn\\svm\\_base.py:977: ConvergenceWarning: Liblinear failed to converge, increase the number of iterations.\n",
      "  \"the number of iterations.\", ConvergenceWarning)\n",
      "C:\\Users\\abish\\Anaconda3\\lib\\site-packages\\sklearn\\svm\\_base.py:977: ConvergenceWarning: Liblinear failed to converge, increase the number of iterations.\n",
      "  \"the number of iterations.\", ConvergenceWarning)\n",
      "C:\\Users\\abish\\Anaconda3\\lib\\site-packages\\sklearn\\svm\\_base.py:977: ConvergenceWarning: Liblinear failed to converge, increase the number of iterations.\n",
      "  \"the number of iterations.\", ConvergenceWarning)\n",
      "C:\\Users\\abish\\Anaconda3\\lib\\site-packages\\sklearn\\svm\\_base.py:977: ConvergenceWarning: Liblinear failed to converge, increase the number of iterations.\n",
      "  \"the number of iterations.\", ConvergenceWarning)\n",
      "C:\\Users\\abish\\Anaconda3\\lib\\site-packages\\sklearn\\svm\\_base.py:977: ConvergenceWarning: Liblinear failed to converge, increase the number of iterations.\n",
      "  \"the number of iterations.\", ConvergenceWarning)\n",
      "C:\\Users\\abish\\Anaconda3\\lib\\site-packages\\sklearn\\svm\\_base.py:977: ConvergenceWarning: Liblinear failed to converge, increase the number of iterations.\n",
      "  \"the number of iterations.\", ConvergenceWarning)\n",
      "C:\\Users\\abish\\Anaconda3\\lib\\site-packages\\sklearn\\svm\\_base.py:977: ConvergenceWarning: Liblinear failed to converge, increase the number of iterations.\n",
      "  \"the number of iterations.\", ConvergenceWarning)\n",
      "C:\\Users\\abish\\Anaconda3\\lib\\site-packages\\sklearn\\svm\\_base.py:977: ConvergenceWarning: Liblinear failed to converge, increase the number of iterations.\n",
      "  \"the number of iterations.\", ConvergenceWarning)\n",
      "C:\\Users\\abish\\Anaconda3\\lib\\site-packages\\sklearn\\svm\\_base.py:977: ConvergenceWarning: Liblinear failed to converge, increase the number of iterations.\n",
      "  \"the number of iterations.\", ConvergenceWarning)\n",
      "C:\\Users\\abish\\Anaconda3\\lib\\site-packages\\sklearn\\svm\\_base.py:977: ConvergenceWarning: Liblinear failed to converge, increase the number of iterations.\n",
      "  \"the number of iterations.\", ConvergenceWarning)\n"
     ]
    },
    {
     "name": "stdout",
     "output_type": "stream",
     "text": [
      "Best Tuning Parameter C for L2: {'C': 0.5}\n",
      "\n",
      " Confusion Matrix: \n",
      "[[2590  181]\n",
      " [ 136  556]]\n",
      "              precision    recall  f1-score   support\n",
      "\n",
      "           0       0.95      0.93      0.94      2771\n",
      "           1       0.75      0.80      0.78       692\n",
      "\n",
      "    accuracy                           0.91      3463\n",
      "   macro avg       0.85      0.87      0.86      3463\n",
      "weighted avg       0.91      0.91      0.91      3463\n",
      "\n"
     ]
    }
   ],
   "source": [
    "clf_l2 = svm.LinearSVC(penalty='l2',class_weight='balanced',max_iter = 5000)\n",
    "l2 = GridSearchCV(clf_l2, param_grid, refit = True)\n",
    "l2.fit(X_train, y_train)\n",
    "print(f\"Best Tuning Parameter C for L2: {l2.best_params_}\")   \n",
    "l2.score(X_test, y_test)\n",
    "pred2 = l2.predict(X_test)\n",
    "CM2 = confusion_matrix(y_test, pred2)\n",
    "print(f\"\\n Confusion Matrix: \\n{CM2}\")\n",
    "print(classification_report(y_test, pred2))"
   ]
  },
  {
   "cell_type": "markdown",
   "metadata": {},
   "source": [
    "\n",
    "## Part 2: Logistic Regression \n",
    "\n",
    "(a) Plotting the ROC curve and computing the area under the ROC curve by selecting the Elastic-Net penalty and using the cross validation to choose the best tuning parameters C. \n",
    "\n",
    "(b) Plotting the precision recall curve and computing the average precision\n",
    "\n",
    "(c) Choosing an optimal threshold to maximum the F1-score\n"
   ]
  },
  {
   "cell_type": "code",
   "execution_count": 18,
   "metadata": {},
   "outputs": [
    {
     "name": "stderr",
     "output_type": "stream",
     "text": [
      "In C:\\Users\\abish\\Anaconda3\\lib\\site-packages\\matplotlib\\mpl-data\\stylelib\\_classic_test.mplstyle: \n",
      "The text.latex.preview rcparam was deprecated in Matplotlib 3.3 and will be removed two minor releases later.\n",
      "In C:\\Users\\abish\\Anaconda3\\lib\\site-packages\\matplotlib\\mpl-data\\stylelib\\_classic_test.mplstyle: \n",
      "The mathtext.fallback_to_cm rcparam was deprecated in Matplotlib 3.3 and will be removed two minor releases later.\n",
      "In C:\\Users\\abish\\Anaconda3\\lib\\site-packages\\matplotlib\\mpl-data\\stylelib\\_classic_test.mplstyle: Support for setting the 'mathtext.fallback_to_cm' rcParam is deprecated since 3.3 and will be removed two minor releases later; use 'mathtext.fallback : 'cm' instead.\n",
      "In C:\\Users\\abish\\Anaconda3\\lib\\site-packages\\matplotlib\\mpl-data\\stylelib\\_classic_test.mplstyle: \n",
      "The validate_bool_maybe_none function was deprecated in Matplotlib 3.3 and will be removed two minor releases later.\n",
      "In C:\\Users\\abish\\Anaconda3\\lib\\site-packages\\matplotlib\\mpl-data\\stylelib\\_classic_test.mplstyle: \n",
      "The savefig.jpeg_quality rcparam was deprecated in Matplotlib 3.3 and will be removed two minor releases later.\n",
      "In C:\\Users\\abish\\Anaconda3\\lib\\site-packages\\matplotlib\\mpl-data\\stylelib\\_classic_test.mplstyle: \n",
      "The keymap.all_axes rcparam was deprecated in Matplotlib 3.3 and will be removed two minor releases later.\n",
      "In C:\\Users\\abish\\Anaconda3\\lib\\site-packages\\matplotlib\\mpl-data\\stylelib\\_classic_test.mplstyle: \n",
      "The animation.avconv_path rcparam was deprecated in Matplotlib 3.3 and will be removed two minor releases later.\n",
      "In C:\\Users\\abish\\Anaconda3\\lib\\site-packages\\matplotlib\\mpl-data\\stylelib\\_classic_test.mplstyle: \n",
      "The animation.avconv_args rcparam was deprecated in Matplotlib 3.3 and will be removed two minor releases later.\n"
     ]
    }
   ],
   "source": [
    "from sklearn.linear_model import LogisticRegression\n",
    "from sklearn.metrics import roc_curve\n",
    "from sklearn.metrics import roc_auc_score\n",
    "import matplotlib.pyplot as plt\n",
    "%matplotlib inline\n",
    "from sklearn.metrics import precision_recall_curve\n",
    "from sklearn.metrics import f1_score\n",
    "from sklearn.metrics import auc"
   ]
  },
  {
   "cell_type": "code",
   "execution_count": 100,
   "metadata": {},
   "outputs": [],
   "source": [
    "parameters3= [{'tol':[1e-6,1e-4],'C':[0.001,0.01,0.1,1,10,100],'solver': ['saga'],'multi_class':['ovr','multinomial']}]"
   ]
  },
  {
   "cell_type": "code",
   "execution_count": null,
   "metadata": {},
   "outputs": [],
   "source": [
    "LR = LogisticRegression(class_weight='balanced',penalty = 'elasticnet', max_iter=2000 , l1_ratio = 0)\n",
    "cv3 = GridSearchCV(LR, parameters3, refit = True)\n",
    "cv3.fit(X_train,y_train)\n",
    "print(\"Best Parameters for logistic Regression: \",cv3.best_params_)"
   ]
  },
  {
   "cell_type": "code",
   "execution_count": 21,
   "metadata": {},
   "outputs": [
    {
     "name": "stdout",
     "output_type": "stream",
     "text": [
      "Area under the ROC Curve = 0.9528109570009784\n"
     ]
    }
   ],
   "source": [
    "LR1 = LogisticRegression(penalty = 'elasticnet',class_weight='balanced', solver='saga',max_iter=2000 , l1_ratio = 0)\n",
    "LR1.fit(X_train, y_train)\n",
    "scores = LR1.predict_proba(X_test)\n",
    "scores = scores[:, 1]\n",
    "auc = roc_auc_score(y_test, scores)\n",
    "print('Area under the ROC Curve = {}'.format(auc))\n",
    "fpr, tpr, thresholds = roc_curve(y_test, scores)"
   ]
  },
  {
   "cell_type": "code",
   "execution_count": 22,
   "metadata": {},
   "outputs": [
    {
     "data": {
      "text/plain": [
       "Text(0.5, 1.0, 'ROC Curve for Logistic Regression Model')"
      ]
     },
     "execution_count": 22,
     "metadata": {},
     "output_type": "execute_result"
    },
    {
     "data": {
      "image/png": "[encoded data removed]",
      "text/plain": [
       "<Figure size 432x288 with 1 Axes>"
      ]
     },
     "metadata": {
      "needs_background": "light"
     },
     "output_type": "display_data"
    }
   ],
   "source": [
    "plt.plot(fpr, tpr)\n",
    "plt.xlabel('FPR')\n",
    "plt.ylabel('TPR')\n",
    "plt.title('ROC Curve for Logistic Regression Model')"
   ]
  },
  {
   "cell_type": "code",
   "execution_count": 23,
   "metadata": {
    "scrolled": true
   },
   "outputs": [
    {
     "name": "stderr",
     "output_type": "stream",
     "text": [
      "C:\\Users\\abish\\Anaconda3\\lib\\site-packages\\ipykernel_launcher.py:5: RuntimeWarning: invalid value encountered in longlong_scalars\n",
      "  \"\"\"\n"
     ]
    },
    {
     "name": "stdout",
     "output_type": "stream",
     "text": [
      "F1 Score nan, Threshold 1.9998540903320292\n",
      "F1 Score nan, Threshold 0.9998540903320292\n",
      "F1 Score 0.005763688760806917, Threshold 0.9998010190634169\n",
      "F1 Score 0.008633093525179854, Threshold 0.9997860401287993\n",
      "F1 Score 0.02002861230329042, Threshold 0.9997826374065044\n",
      "F1 Score 0.03687943262411348, Threshold 0.9997412757103803\n",
      "F1 Score 0.039660056657223795, Threshold 0.9996952735880696\n",
      "F1 Score 0.056179775280898875, Threshold 0.999605722949326\n",
      "F1 Score 0.05890603085553997, Threshold 0.999481186839613\n",
      "F1 Score 0.06433566433566433, Threshold 0.999393358156576\n",
      "F1 Score 0.06703910614525138, Threshold 0.9993469661829677\n",
      "F1 Score 0.08310249307479224, Threshold 0.9988896806348965\n",
      "F1 Score 0.08575380359612725, Threshold 0.9987322137662606\n",
      "F1 Score 0.09366391184573004, Threshold 0.9987248102529854\n",
      "F1 Score 0.10670314637482901, Threshold 0.9981643281777822\n",
      "F1 Score 0.10928961748633878, Threshold 0.9981618652340113\n",
      "F1 Score 0.11956521739130435, Threshold 0.998072360063519\n",
      "F1 Score 0.12211668928086837, Threshold 0.9979302878637399\n",
      "F1 Score 0.1297297297297297, Threshold 0.9979273977397012\n",
      "F1 Score 0.1447721179624665, Threshold 0.9970457143410274\n",
      "F1 Score 0.14725568942436412, Threshold 0.9968971731070682\n",
      "F1 Score 0.39069767441860465, Threshold 0.9537446576982725\n",
      "F1 Score 0.39256678281068524, Threshold 0.953485503072677\n",
      "F1 Score 0.4868995633187773, Threshold 0.926168117358822\n",
      "F1 Score 0.4885496183206106, Threshold 0.9261379832454135\n",
      "F1 Score 0.5281018027571581, Threshold 0.8989721597608412\n",
      "F1 Score 0.5296610169491526, Threshold 0.8987864980990847\n",
      "F1 Score 0.5368421052631579, Threshold 0.897184732044339\n",
      "F1 Score 0.5378151260504201, Threshold 0.8959076290604205\n",
      "F1 Score 0.5372507869884575, Threshold 0.8948289809691717\n",
      "F1 Score 0.5382198952879581, Threshold 0.8919875483344968\n",
      "F1 Score 0.5467775467775469, Threshold 0.8878172488143388\n",
      "F1 Score 0.5477178423236514, Threshold 0.8874923025350414\n",
      "F1 Score 0.5923694779116466, Threshold 0.867500712725486\n",
      "F1 Score 0.5937813440320963, Threshold 0.8668353144470601\n",
      "F1 Score 0.593186372745491, Threshold 0.8661936759223822\n",
      "F1 Score 0.5945945945945946, Threshold 0.8661420579609322\n",
      "F1 Score 0.6037735849056604, Threshold 0.8602884210648657\n",
      "F1 Score 0.6051587301587302, Threshold 0.8593397777644168\n",
      "F1 Score 0.6059405940594059, Threshold 0.8554264131535905\n",
      "F1 Score 0.6073194856577646, Threshold 0.854603402957001\n",
      "F1 Score 0.6080947680157947, Threshold 0.8533582931637131\n",
      "F1 Score 0.6094674556213018, Threshold 0.8532402882757192\n",
      "F1 Score 0.612966601178782, Threshold 0.8499033274833374\n",
      "F1 Score 0.6143277723258096, Threshold 0.849622682593654\n",
      "F1 Score 0.6177908113391984, Threshold 0.8466408259777974\n",
      "F1 Score 0.6185365853658538, Threshold 0.8464448851584119\n",
      "F1 Score 0.6219630709426627, Threshold 0.8433938269720728\n",
      "F1 Score 0.6233009708737864, Threshold 0.8419522446590414\n",
      "F1 Score 0.6280193236714976, Threshold 0.8350639218852692\n",
      "F1 Score 0.6293436293436293, Threshold 0.8333029025191815\n",
      "F1 Score 0.6340057636887607, Threshold 0.8268518605046554\n",
      "F1 Score 0.63531669865643, Threshold 0.8261435585894843\n",
      "F1 Score 0.636015325670498, Threshold 0.8236072508469869\n",
      "F1 Score 0.6373205741626794, Threshold 0.8221983075236946\n",
      "F1 Score 0.6380133715377269, Threshold 0.82031004017608\n",
      "F1 Score 0.6393129770992366, Threshold 0.819322323586412\n",
      "F1 Score 0.6419047619047619, Threshold 0.8192038572118979\n",
      "F1 Score 0.6431969552806851, Threshold 0.8181463236951063\n",
      "F1 Score 0.6464454976303318, Threshold 0.8146838065874651\n",
      "F1 Score 0.6477272727272728, Threshold 0.8143516763728121\n",
      "F1 Score 0.6496694995278565, Threshold 0.8080022648671271\n",
      "F1 Score 0.6509433962264151, Threshold 0.8079081035366303\n",
      "F1 Score 0.650329877474081, Threshold 0.8070491755644431\n",
      "F1 Score 0.6516007532956686, Threshold 0.8063168540639895\n",
      "F1 Score 0.6522556390977442, Threshold 0.8047644205227938\n",
      "F1 Score 0.6529080675422139, Threshold 0.803501569162627\n",
      "F1 Score 0.6585820895522388, Threshold 0.7970246338265464\n",
      "F1 Score 0.6598322460391426, Threshold 0.7969858087084752\n",
      "F1 Score 0.676470588235294, Threshold 0.7865701771400131\n",
      "F1 Score 0.6776859504132231, Threshold 0.7859160258527517\n",
      "F1 Score 0.6867030965391621, Threshold 0.7782329504512693\n",
      "F1 Score 0.6878980891719745, Threshold 0.7769937018528478\n",
      "F1 Score 0.6925858951175407, Threshold 0.7702839084604196\n",
      "F1 Score 0.6900269541778975, Threshold 0.7628508278047954\n",
      "F1 Score 0.6940966010733453, Threshold 0.7590219213270292\n",
      "F1 Score 0.6946428571428571, Threshold 0.7585912374476869\n",
      "F1 Score 0.6940231935771632, Threshold 0.7584810846180793\n",
      "F1 Score 0.695187165775401, Threshold 0.7581896091261383\n",
      "F1 Score 0.7015057573073517, Threshold 0.745946470188719\n",
      "F1 Score 0.7026548672566372, Threshold 0.7449354469105467\n",
      "F1 Score 0.7020335985853227, Threshold 0.7446368557161349\n",
      "F1 Score 0.7031802120141344, Threshold 0.7432838130151977\n",
      "F1 Score 0.7054673721340389, Threshold 0.7427613157813474\n",
      "F1 Score 0.7066079295154185, Threshold 0.7425353587600344\n",
      "F1 Score 0.7071240105540896, Threshold 0.7410108706898331\n",
      "F1 Score 0.707638279192274, Threshold 0.7384029938507037\n",
      "F1 Score 0.71602787456446, Threshold 0.7296673103406653\n",
      "F1 Score 0.7171453437771975, Threshold 0.7293233170573787\n",
      "F1 Score 0.7176368375325805, Threshold 0.728221879635914\n",
      "F1 Score 0.7181266261925412, Threshold 0.7263085028854388\n",
      "F1 Score 0.7197231833910035, Threshold 0.7223792771039488\n",
      "F1 Score 0.720829732065687, Threshold 0.7216048348082362\n",
      "F1 Score 0.7257093723129836, Threshold 0.714375049011833\n",
      "F1 Score 0.7268041237113403, Threshold 0.7132346581196576\n",
      "F1 Score 0.7261802575107296, Threshold 0.7127215876704206\n",
      "F1 Score 0.7272727272727273, Threshold 0.7123169952425215\n",
      "F1 Score 0.7309991460290349, Threshold 0.7093368254534829\n",
      "F1 Score 0.731457800511509, Threshold 0.7087243461207253\n",
      "F1 Score 0.7362171331636981, Threshold 0.7015523819706194\n",
      "F1 Score 0.7372881355932204, Threshold 0.7008368605714534\n",
      "F1 Score 0.7366638441998307, Threshold 0.7003909496207766\n",
      "F1 Score 0.7377326565143824, Threshold 0.6998120357297097\n",
      "F1 Score 0.7371090448013525, Threshold 0.6997798089581329\n",
      "F1 Score 0.7381756756756758, Threshold 0.6982838198455492\n",
      "F1 Score 0.7375527426160338, Threshold 0.6970159859641528\n",
      "F1 Score 0.7367535744322962, Threshold 0.6940929974862596\n",
      "F1 Score 0.7361344537815125, Threshold 0.6936354595637453\n",
      "F1 Score 0.7371956339210747, Threshold 0.6926871849638511\n",
      "F1 Score 0.7365771812080537, Threshold 0.6916920397868873\n",
      "F1 Score 0.7370184254606365, Threshold 0.6903201269914091\n",
      "F1 Score 0.7395659432387311, Threshold 0.6838014285622339\n",
      "F1 Score 0.7399999999999999, Threshold 0.6836770053914172\n",
      "F1 Score 0.739383846794338, Threshold 0.6832012574775048\n",
      "F1 Score 0.7385892116182573, Threshold 0.6815941637463729\n",
      "F1 Score 0.7390223695111848, Threshold 0.6808860882505484\n",
      "F1 Score 0.7400662251655629, Threshold 0.6804330096325174\n",
      "F1 Score 0.7394540942928041, Threshold 0.6800761412177662\n",
      "F1 Score 0.740495867768595, Threshold 0.679302085367605\n",
      "F1 Score 0.7409240924092411, Threshold 0.6791962618536199\n",
      "F1 Score 0.741962077493817, Threshold 0.6788343492774943\n",
      "F1 Score 0.7413509060955519, Threshold 0.6787409446004141\n",
      "F1 Score 0.74238683127572, Threshold 0.6785577135271266\n",
      "F1 Score 0.7428101889893179, Threshold 0.67712005447392\n",
      "F1 Score 0.742014742014742, Threshold 0.6716750003031675\n",
      "F1 Score 0.7424366312346689, Threshold 0.6709760926954345\n",
      "F1 Score 0.7434640522875817, Threshold 0.6708076757158298\n",
      "F1 Score 0.7438825448613376, Threshold 0.6692890447243911\n",
      "F1 Score 0.7449062754686226, Threshold 0.6690479743761437\n",
      "F1 Score 0.744299674267101, Threshold 0.6689768337036417\n",
      "F1 Score 0.7463414634146341, Threshold 0.6673311197157666\n",
      "F1 Score 0.7473598700243704, Threshold 0.6659185184626626\n",
      "F1 Score 0.7467532467532467, Threshold 0.6654484825175071\n",
      "F1 Score 0.7477696674776966, Threshold 0.6632048594491244\n",
      "F1 Score 0.748178137651822, Threshold 0.6627490188719793\n",
      "F1 Score 0.7491909385113268, Threshold 0.6624677384771671\n",
      "F1 Score 0.7526188557614826, Threshold 0.6563824790647871\n",
      "F1 Score 0.7530168946098149, Threshold 0.6553045843678631\n",
      "F1 Score 0.7524115755627011, Threshold 0.655289168631538\n",
      "F1 Score 0.753413654618474, Threshold 0.6550647573951534\n",
      "F1 Score 0.752808988764045, Threshold 0.6546097785810807\n",
      "F1 Score 0.7538091419406576, Threshold 0.6544081409806455\n",
      "F1 Score 0.7611464968152866, Threshold 0.6479594474345248\n",
      "F1 Score 0.7621320604614161, Threshold 0.6478377938523285\n",
      "F1 Score 0.7615262321144675, Threshold 0.6453680705383759\n",
      "F1 Score 0.7625099285146941, Threshold 0.6452501401072057\n",
      "F1 Score 0.7638668779714738, Threshold 0.6420506613194152\n",
      "F1 Score 0.7648456057007126, Threshold 0.6419377148331917\n",
      "F1 Score 0.7642405063291139, Threshold 0.6416962970885953\n",
      "F1 Score 0.7634069400630915, Threshold 0.6395084665825111\n",
      "F1 Score 0.7628053585500394, Threshold 0.6382836762226967\n",
      "F1 Score 0.7631785995279308, Threshold 0.6353075684294166\n",
      "F1 Score 0.7654901960784313, Threshold 0.6345006265246841\n",
      "F1 Score 0.7658574784651528, Threshold 0.6320937018271395\n",
      "F1 Score 0.7652582159624414, Threshold 0.631169627525328\n",
      "F1 Score 0.766223612197029, Threshold 0.6308130106410291\n",
      "F1 Score 0.7685113016367888, Threshold 0.6282720374988101\n",
      "F1 Score 0.7688715953307392, Threshold 0.6265240121406157\n",
      "F1 Score 0.7682737169517884, Threshold 0.6244799873967387\n",
      "F1 Score 0.7686335403726707, Threshold 0.622657854883563\n",
      "F1 Score 0.7689922480620155, Threshold 0.6217599955671573\n",
      "F1 Score 0.7693498452012384, Threshold 0.6202443796836884\n",
      "F1 Score 0.7706563706563707, Threshold 0.61974523597334\n",
      "F1 Score 0.7716049382716048, Threshold 0.6174598337758752\n",
      "F1 Score 0.7747886241352806, Threshold 0.6135417280926967\n",
      "F1 Score 0.7757296466973886, Threshold 0.6118586751553189\n",
      "F1 Score 0.7760736196319018, Threshold 0.6109175589496159\n",
      "F1 Score 0.7770114942528735, Threshold 0.6097283080795061\n",
      "F1 Score 0.7773527161438409, Threshold 0.6091347654675149\n",
      "F1 Score 0.7782874617737003, Threshold 0.6086613014984754\n",
      "F1 Score 0.7795575896262394, Threshold 0.6062550557053961\n",
      "F1 Score 0.7792998477929985, Threshold 0.6047561881242787\n",
      "F1 Score 0.7787072243346007, Threshold 0.6045825057850687\n",
      "F1 Score 0.7796352583586627, Threshold 0.6043411731305942\n",
      "F1 Score 0.7808946171341925, Threshold 0.6026660501291449\n",
      "F1 Score 0.7818181818181819, Threshold 0.6021213798670623\n",
      "F1 Score 0.783987915407855, Threshold 0.5990882747499988\n",
      "F1 Score 0.784313725490196, Threshold 0.5976592682419494\n",
      "F1 Score 0.7846385542168673, Threshold 0.597009527651568\n",
      "F1 Score 0.7849624060150375, Threshold 0.5946651074491807\n",
      "F1 Score 0.7843726521412473, Threshold 0.5933833256596546\n",
      "F1 Score 0.7852852852852853, Threshold 0.5914963061944223\n",
      "F1 Score 0.784696174043511, Threshold 0.591026647578036\n",
      "F1 Score 0.7856071964017992, Threshold 0.5900291914595535\n",
      "F1 Score 0.7859281437125748, Threshold 0.5874789847683066\n",
      "F1 Score 0.7850746268656716, Threshold 0.5820556241452518\n",
      "F1 Score 0.7844891871737509, Threshold 0.5807282922211686\n",
      "F1 Score 0.7848101265822784, Threshold 0.5797517636804368\n",
      "F1 Score 0.7842261904761905, Threshold 0.5782964452813363\n",
      "F1 Score 0.7833827893175074, Threshold 0.5769446973226388\n",
      "F1 Score 0.7837037037037038, Threshold 0.5750460967927667\n",
      "F1 Score 0.7846039970392302, Threshold 0.5741964501447605\n",
      "F1 Score 0.7840236686390533, Threshold 0.5726731567432567\n",
      "F1 Score 0.7843426883308715, Threshold 0.5715510859110243\n",
      "F1 Score 0.7837638376383764, Threshold 0.5714200137937708\n",
      "F1 Score 0.784660766961652, Threshold 0.5711732615307512\n",
      "F1 Score 0.7840825350036846, Threshold 0.5708406981195615\n",
      "F1 Score 0.7844002943340692, Threshold 0.569558213806037\n",
      "F1 Score 0.7838235294117647, Threshold 0.568798682053227\n",
      "F1 Score 0.7847171197648787, Threshold 0.5687197749404559\n",
      "F1 Score 0.78503301540719, Threshold 0.5682239879890988\n",
      "F1 Score 0.7859237536656892, Threshold 0.5655013297542874\n",
      "F1 Score 0.787125091441112, Threshold 0.563547047362858\n",
      "F1 Score 0.7862873814733772, Threshold 0.5623961928386823\n",
      "F1 Score 0.7857142857142857, Threshold 0.5622350341526224\n",
      "F1 Score 0.7854545454545455, Threshold 0.5603402592461189\n",
      "F1 Score 0.7848837209302325, Threshold 0.558290421730657\n",
      "F1 Score 0.7851959361393323, Threshold 0.5580749686805182\n",
      "F1 Score 0.7846265409717187, Threshold 0.5580245599574761\n",
      "F1 Score 0.7821067821067821, Threshold 0.5540464396032964\n",
      "F1 Score 0.7824207492795389, Threshold 0.5525488810151316\n",
      "F1 Score 0.7821710999281094, Threshold 0.5516822933625191\n",
      "F1 Score 0.7816091954022989, Threshold 0.5512371567930756\n",
      "F1 Score 0.782483847810481, Threshold 0.5511676925201922\n",
      "F1 Score 0.7819225251076041, Threshold 0.5490622136482094\n",
      "F1 Score 0.7805575411007863, Threshold 0.5472137933304567\n",
      "F1 Score 0.78, Threshold 0.5469607974873528\n",
      "F1 Score 0.7808708065667381, Threshold 0.5458232771781534\n",
      "F1 Score 0.781183178902352, Threshold 0.5443420424563383\n",
      "F1 Score 0.7765205091937765, Threshold 0.5397158245984562\n",
      "F1 Score 0.7785613540197461, Threshold 0.5365681013112136\n",
      "F1 Score 0.7794221282593377, Threshold 0.5363303384937934\n",
      "F1 Score 0.7797325826882476, Threshold 0.5357473276927446\n",
      "F1 Score 0.7800421644413211, Threshold 0.5349191851273599\n",
      "F1 Score 0.7794943820224719, Threshold 0.5343126498589135\n",
      "F1 Score 0.779803646563815, Threshold 0.5334696607582174\n",
      "F1 Score 0.7792571829011913, Threshold 0.532226429363537\n",
      "F1 Score 0.7795661301609517, Threshold 0.5311776516334653\n",
      "F1 Score 0.779020979020979, Threshold 0.5305487107532418\n",
      "F1 Score 0.779874213836478, Threshold 0.5303775149921862\n",
      "F1 Score 0.781032078103208, Threshold 0.5283204087035681\n",
      "F1 Score 0.7802503477051459, Threshold 0.5275437583592274\n",
      "F1 Score 0.7797081306462821, Threshold 0.527500657294394\n",
      "F1 Score 0.7805555555555557, Threshold 0.5273227774723748\n",
      "F1 Score 0.7808599167822469, Threshold 0.5254523462070484\n",
      "F1 Score 0.7817047817047816, Threshold 0.5250711205104289\n",
      "F1 Score 0.781163434903047, Threshold 0.5246325586511222\n",
      "F1 Score 0.782006920415225, Threshold 0.5243293455715454\n",
      "F1 Score 0.7814661134163208, Threshold 0.5242688914222338\n",
      "F1 Score 0.7806896551724138, Threshold 0.5183064375480547\n",
      "F1 Score 0.782668500687758, Threshold 0.5165020346316601\n",
      "F1 Score 0.7797537619699042, Threshold 0.5098245977692283\n",
      "F1 Score 0.7792207792207793, Threshold 0.5094021183264891\n",
      "F1 Score 0.7789904502046384, Threshold 0.5062151225944936\n",
      "F1 Score 0.7784594410361282, Threshold 0.5056083183512281\n",
      "F1 Score 0.774018944519621, Threshold 0.5001238280394936\n",
      "F1 Score 0.7734956051386072, Threshold 0.49925821074395865\n",
      "F1 Score 0.7743243243243243, Threshold 0.49812807332396447\n",
      "F1 Score 0.7738014854827819, Threshold 0.49792565145011813\n",
      "F1 Score 0.773063973063973, Threshold 0.495957517405531\n",
      "F1 Score 0.7725437415881562, Threshold 0.4958415215754848\n",
      "F1 Score 0.7733691997310019, Threshold 0.492700742494947\n",
      "F1 Score 0.7728494623655915, Threshold 0.49222637467561725\n",
      "F1 Score 0.772117962466488, Threshold 0.49038981701457746\n",
      "F1 Score 0.7716008037508372, Threshold 0.4898730427680168\n",
      "F1 Score 0.7698465643762509, Threshold 0.486262377363468\n",
      "F1 Score 0.7709720372836218, Threshold 0.48258802935034983\n",
      "F1 Score 0.771789753825682, Threshold 0.4825294891663246\n",
      "F1 Score 0.7720930232558141, Threshold 0.482065913457175\n",
      "F1 Score 0.7698412698412698, Threshold 0.4792729401923252\n",
      "F1 Score 0.7693324520819562, Threshold 0.47891046236025425\n",
      "F1 Score 0.7691292875989445, Threshold 0.4767726498001085\n",
      "F1 Score 0.7686222808174027, Threshold 0.47674107995010434\n",
      "F1 Score 0.7689269256089531, Threshold 0.47369657694102163\n",
      "F1 Score 0.7684210526315789, Threshold 0.47366521025675057\n",
      "F1 Score 0.7664041994750657, Threshold 0.4724097460447481\n",
      "F1 Score 0.7667103538663173, Threshold 0.4720353121414915\n",
      "F1 Score 0.7650130548302871, Threshold 0.4675678067770446\n",
      "F1 Score 0.7645140247879973, Threshold 0.46746459505843185\n",
      "F1 Score 0.7633289986996099, Threshold 0.4663377372635443\n",
      "F1 Score 0.7628330084470435, Threshold 0.46588821061697594\n",
      "F1 Score 0.7626459143968871, Threshold 0.4649157422024766\n",
      "F1 Score 0.7637540453074434, Threshold 0.46424731093886523\n",
      "F1 Score 0.7640594699418228, Threshold 0.46266122327912235\n",
      "F1 Score 0.7635658914728682, Threshold 0.46218309112538597\n",
      "F1 Score 0.7623953638119768, Threshold 0.4586002946901397\n",
      "F1 Score 0.761904761904762, Threshold 0.4585007014402652\n",
      "F1 Score 0.7627009646302252, Threshold 0.4564769465942474\n",
      "F1 Score 0.762210796915167, Threshold 0.455253716185057\n",
      "F1 Score 0.7630057803468209, Threshold 0.4549223514228382\n",
      "F1 Score 0.7625160462130937, Threshold 0.4548611277594916\n",
      "F1 Score 0.7589285714285714, Threshold 0.4488224486110948\n",
      "F1 Score 0.7584448693435308, Threshold 0.44776088816883125\n",
      "F1 Score 0.7587523870146404, Threshold 0.4458209099499447\n",
      "F1 Score 0.7582697201017812, Threshold 0.4454534635173204\n",
      "F1 Score 0.7552182163187856, Threshold 0.4397101216284168\n",
      "F1 Score 0.7547408343868521, Threshold 0.43933025954562127\n",
      "F1 Score 0.7540983606557377, Threshold 0.4386114260181029\n"
     ]
    },
    {
     "name": "stdout",
     "output_type": "stream",
     "text": [
      "F1 Score 0.753623188405797, Threshold 0.4384827408814672\n",
      "F1 Score 0.7534591194968554, Threshold 0.43770494256431225\n",
      "F1 Score 0.7529855436832181, Threshold 0.43732181338168297\n",
      "F1 Score 0.7537688442211055, Threshold 0.4364562559265365\n",
      "F1 Score 0.7532956685499058, Threshold 0.43634609692042997\n",
      "F1 Score 0.75125, Threshold 0.4345992647524494\n",
      "F1 Score 0.7507807620237352, Threshold 0.4344718554630522\n",
      "F1 Score 0.7473618870266915, Threshold 0.4306275405653824\n",
      "F1 Score 0.7468982630272953, Threshold 0.4305505603047091\n",
      "F1 Score 0.746749226006192, Threshold 0.42748929186185536\n",
      "F1 Score 0.7470624613481756, Threshold 0.4271958760486183\n",
      "F1 Score 0.7473749227918467, Threshold 0.4270284017579346\n",
      "F1 Score 0.7469135802469137, Threshold 0.4257283672899489\n",
      "F1 Score 0.7467652495378928, Threshold 0.4252764758937692\n",
      "F1 Score 0.7463054187192117, Threshold 0.4252734676042074\n",
      "F1 Score 0.7461585740626921, Threshold 0.4244116963312651\n",
      "F1 Score 0.7457002457002457, Threshold 0.4237721593557732\n",
      "F1 Score 0.7464702271332105, Threshold 0.42375795539663136\n",
      "F1 Score 0.7460122699386504, Threshold 0.4234225104584479\n",
      "F1 Score 0.7458665033680344, Threshold 0.4227348685710223\n",
      "F1 Score 0.7454100367197063, Threshold 0.42252124163731264\n",
      "F1 Score 0.7457212713936431, Threshold 0.420745522487319\n",
      "F1 Score 0.7452657299938912, Threshold 0.42021309972669735\n",
      "F1 Score 0.7442143727161998, Threshold 0.41733551741264946\n",
      "F1 Score 0.743761412051126, Threshold 0.4173193500468782\n",
      "F1 Score 0.7436208991494532, Threshold 0.4162243422128683\n",
      "F1 Score 0.7431693989071038, Threshold 0.4159466461548959\n",
      "F1 Score 0.7434808975136445, Threshold 0.41560311001518346\n",
      "F1 Score 0.7430303030303029, Threshold 0.41556550739551257\n",
      "F1 Score 0.7437916414294367, Threshold 0.41393837894675856\n",
      "F1 Score 0.7441016333938295, Threshold 0.4134751562518701\n",
      "F1 Score 0.7417218543046358, Threshold 0.4090962101295989\n",
      "F1 Score 0.7420324714371619, Threshold 0.4079718931007109\n",
      "F1 Score 0.7427884615384616, Threshold 0.4070969044626034\n",
      "F1 Score 0.7438512297540492, Threshold 0.40624701967093396\n",
      "F1 Score 0.7414925373134328, Threshold 0.4032926245369512\n",
      "F1 Score 0.7410501193317423, Threshold 0.4032253249204278\n",
      "F1 Score 0.7347903130537508, Threshold 0.3946196212818823\n",
      "F1 Score 0.7358490566037735, Threshold 0.39429287433523197\n",
      "F1 Score 0.7365939893930464, Threshold 0.3942028407705224\n",
      "F1 Score 0.7361601884570081, Threshold 0.394107896912643\n",
      "F1 Score 0.7356051703877791, Threshold 0.39299786930766073\n",
      "F1 Score 0.735173223722842, Threshold 0.392563468587005\n",
      "F1 Score 0.7350527549824151, Threshold 0.390390734327313\n",
      "F1 Score 0.7353629976580797, Threshold 0.39001049330433885\n",
      "F1 Score 0.735672514619883, Threshold 0.38967041813790476\n",
      "F1 Score 0.7352425482174167, Threshold 0.38893018037352645\n",
      "F1 Score 0.7329842931937172, Threshold 0.38545936118224666\n",
      "F1 Score 0.7325581395348838, Threshold 0.3851803443847411\n",
      "F1 Score 0.7315942028985507, Threshold 0.38397691774141374\n",
      "F1 Score 0.7311703360370799, Threshold 0.38347522215291757\n",
      "F1 Score 0.730635838150289, Threshold 0.3822945510282517\n",
      "F1 Score 0.7302137492778741, Threshold 0.38103362058753726\n",
      "F1 Score 0.7292626728110599, Threshold 0.3780069669713553\n",
      "F1 Score 0.7288428324697754, Threshold 0.37788450094880865\n",
      "F1 Score 0.723744292237443, Threshold 0.37227155194328726\n",
      "F1 Score 0.7233314318311467, Threshold 0.3719667248108076\n",
      "F1 Score 0.7240592930444697, Threshold 0.3717352209415967\n",
      "F1 Score 0.7236467236467238, Threshold 0.3709295245573342\n",
      "F1 Score 0.7231381466742468, Threshold 0.36922347707222536\n",
      "F1 Score 0.7227272727272727, Threshold 0.36884443870169514\n",
      "F1 Score 0.7209960384833051, Threshold 0.3663510398500996\n",
      "F1 Score 0.7205882352941175, Threshold 0.3655727246635218\n",
      "F1 Score 0.7165354330708661, Threshold 0.35959876852061695\n",
      "F1 Score 0.716132658797077, Threshold 0.3594849698950979\n",
      "F1 Score 0.716451431779899, Threshold 0.3588355725455902\n",
      "F1 Score 0.7160493827160493, Threshold 0.3587780377611899\n",
      "F1 Score 0.7155655095184771, Threshold 0.35692956820766164\n",
      "F1 Score 0.7151650811415781, Threshold 0.35678931348774523\n",
      "F1 Score 0.7154835103409727, Threshold 0.35625363582684444\n",
      "F1 Score 0.7150837988826816, Threshold 0.35599435331582074\n",
      "F1 Score 0.7122222222222223, Threshold 0.35239344281476603\n",
      "F1 Score 0.7118267629094948, Threshold 0.3518439845782469\n",
      "F1 Score 0.7101769911504425, Threshold 0.3509237069494936\n",
      "F1 Score 0.7097844112769486, Threshold 0.35011523358639407\n",
      "F1 Score 0.7104972375690608, Threshold 0.3484310562557141\n",
      "F1 Score 0.7101049144119271, Threshold 0.34832123137783455\n",
      "F1 Score 0.708081363386476, Threshold 0.34500806391537364\n",
      "F1 Score 0.7076923076923076, Threshold 0.3440082990431908\n",
      "F1 Score 0.7056892778993437, Threshold 0.3406035882995107\n",
      "F1 Score 0.705303444505194, Threshold 0.3403502199517187\n",
      "F1 Score 0.7029379760609357, Threshold 0.3382429719622866\n",
      "F1 Score 0.7025557368134856, Threshold 0.3377092966973928\n",
      "F1 Score 0.6919786096256685, Threshold 0.3276449311534658\n",
      "F1 Score 0.6916087653661143, Threshold 0.32762932835408604\n",
      "F1 Score 0.6908315565031983, Threshold 0.32677651736057267\n",
      "F1 Score 0.6904635055940331, Threshold 0.32668101249944\n",
      "F1 Score 0.6864093072448441, Threshold 0.32339901407089117\n",
      "F1 Score 0.686046511627907, Threshold 0.32264228797057676\n",
      "F1 Score 0.684931506849315, Threshold 0.32147342559003117\n",
      "F1 Score 0.6845708267509215, Threshold 0.3212800235577154\n",
      "F1 Score 0.6845425867507887, Threshold 0.3207812012477785\n",
      "F1 Score 0.6841828691539674, Threshold 0.3206489281074659\n",
      "F1 Score 0.6830801466736512, Threshold 0.3199128237831441\n",
      "F1 Score 0.6827225130890053, Threshold 0.31940735877585535\n",
      "F1 Score 0.6816283924843424, Threshold 0.31682449403341023\n",
      "F1 Score 0.6812728221178925, Threshold 0.3168009645864128\n",
      "F1 Score 0.6791277258566978, Threshold 0.3128367445917608\n",
      "F1 Score 0.6787752983912818, Threshold 0.3126110391157754\n",
      "F1 Score 0.6777030522503881, Threshold 0.3106286535839878\n",
      "F1 Score 0.6773526370217166, Threshold 0.3106040739920149\n",
      "F1 Score 0.6780361757105944, Threshold 0.3098189249570631\n",
      "F1 Score 0.6776859504132231, Threshold 0.30868994484353274\n",
      "F1 Score 0.6683621566632757, Threshold 0.30029011760918733\n",
      "F1 Score 0.6680223690899847, Threshold 0.3000987971013037\n",
      "F1 Score 0.6636409480584972, Threshold 0.29502007531066665\n",
      "F1 Score 0.6633064516129032, Threshold 0.2946628034904463\n",
      "F1 Score 0.6576846307385229, Threshold 0.2892582231174855\n",
      "F1 Score 0.657356608478803, Threshold 0.289152512552365\n",
      "F1 Score 0.6557377049180327, Threshold 0.28715490331374677\n",
      "F1 Score 0.6554121151936445, Threshold 0.2871303864565606\n",
      "F1 Score 0.6547619047619048, Threshold 0.28698031037108696\n",
      "F1 Score 0.6544372830937036, Threshold 0.28652208965719583\n",
      "F1 Score 0.6509108813392418, Threshold 0.2839450623381076\n",
      "F1 Score 0.6505905511811023, Threshold 0.2837423922628493\n",
      "F1 Score 0.6340996168582376, Threshold 0.27131083763312036\n",
      "F1 Score 0.6337960746768789, Threshold 0.2711874225228283\n",
      "F1 Score 0.6344497607655502, Threshold 0.27109251907997733\n",
      "F1 Score 0.6341463414634146, Threshold 0.2708275511675095\n",
      "F1 Score 0.6278959810874705, Threshold 0.2662396553825769\n",
      "F1 Score 0.6275992438563326, Threshold 0.2661952021240066\n",
      "F1 Score 0.6180297397769517, Threshold 0.259418155062685\n",
      "F1 Score 0.6177426846261032, Threshold 0.2591780911782805\n",
      "F1 Score 0.6152424942263279, Threshold 0.2565513246457024\n",
      "F1 Score 0.6149584487534626, Threshold 0.25645260579219503\n",
      "F1 Score 0.6108058608058609, Threshold 0.25257457881209683\n",
      "F1 Score 0.6105263157894737, Threshold 0.2522104858068949\n",
      "F1 Score 0.6092111263109895, Threshold 0.2504782565762123\n",
      "F1 Score 0.6089334548769371, Threshold 0.25038826273190135\n",
      "F1 Score 0.6040632054176072, Threshold 0.24599031053886752\n",
      "F1 Score 0.6037906137184116, Threshold 0.24586309676839257\n",
      "F1 Score 0.6033318325078794, Threshold 0.2443162054707306\n",
      "F1 Score 0.603060306030603, Threshold 0.24427775132520085\n",
      "F1 Score 0.6036887089518669, Threshold 0.2442479008398687\n",
      "F1 Score 0.6034172661870504, Threshold 0.24389102087027673\n",
      "F1 Score 0.6017937219730942, Threshold 0.24326481712728956\n",
      "F1 Score 0.6015239802779022, Threshold 0.24313591525140268\n",
      "F1 Score 0.5793103448275861, Threshold 0.22609665681702976\n",
      "F1 Score 0.5790607496768634, Threshold 0.2260646770818312\n",
      "F1 Score 0.5664983164983165, Threshold 0.21552884056486746\n",
      "F1 Score 0.5662599915860328, Threshold 0.2154871860646501\n",
      "F1 Score 0.5603663613655288, Threshold 0.2097694825963504\n",
      "F1 Score 0.5601331668747399, Threshold 0.2097015169364849\n",
      "F1 Score 0.5593360995850623, Threshold 0.2088001674047046\n",
      "F1 Score 0.5591041061800083, Threshold 0.20867636457035246\n"
     ]
    },
    {
     "name": "stdout",
     "output_type": "stream",
     "text": [
      "F1 Score 0.5555555555555556, Threshold 0.20690650614639677\n",
      "F1 Score 0.5553270259152613, Threshold 0.20677177850519118\n",
      "F1 Score 0.5350217649386625, Threshold 0.19014738352580768\n",
      "F1 Score 0.5348101265822786, Threshold 0.19011474844141935\n",
      "F1 Score 0.5322327044025158, Threshold 0.18733946158834347\n",
      "F1 Score 0.5320235756385068, Threshold 0.18721382878468507\n",
      "F1 Score 0.5257851880573865, Threshold 0.1828208941904391\n",
      "F1 Score 0.5255813953488372, Threshold 0.18264161484056304\n",
      "F1 Score 0.5247295208655331, Threshold 0.18183996451659798\n",
      "F1 Score 0.5245268443414446, Threshold 0.18181968841944876\n",
      "F1 Score 0.5196790217806648, Threshold 0.17894798798014983\n",
      "F1 Score 0.5194805194805194, Threshold 0.17893998574815506\n",
      "F1 Score 0.5163002274450341, Threshold 0.17707985515214147\n",
      "F1 Score 0.5161045850701024, Threshold 0.1770647969696604\n",
      "F1 Score 0.5166666666666666, Threshold 0.17684664360870328\n",
      "F1 Score 0.5164710336993562, Threshold 0.17676927405791465\n",
      "F1 Score 0.5170325510976533, Threshold 0.17668850980818387\n",
      "F1 Score 0.516836927733636, Threshold 0.17643396771521433\n",
      "F1 Score 0.48648648648648646, Threshold 0.15452390051700746\n",
      "F1 Score 0.4863135442587984, Threshold 0.15427055873493206\n",
      "F1 Score 0.46169422882213973, Threshold 0.13372230960909673\n",
      "F1 Score 0.46153846153846156, Threshold 0.13365579229965088\n",
      "F1 Score 0.4574290484140234, Threshold 0.13033482032449772\n",
      "F1 Score 0.4572763684913218, Threshold 0.1302522105638034\n",
      "F1 Score 0.4564204923486361, Threshold 0.12900767178651507\n",
      "F1 Score 0.45626870635184574, Threshold 0.1288787261964762\n",
      "F1 Score 0.4558725945587259, Threshold 0.1281835305311793\n",
      "F1 Score 0.45572139303482595, Threshold 0.12789729819242446\n",
      "F1 Score 0.44458804523424883, Threshold 0.11874523384559249\n",
      "F1 Score 0.4444444444444445, Threshold 0.11874172865470231\n",
      "F1 Score 0.43319710782772713, Threshold 0.10679178517232298\n",
      "F1 Score 0.4330609679446889, Threshold 0.10654678772564241\n",
      "F1 Score 0.4103479036574487, Threshold 0.09000438223043901\n",
      "F1 Score 0.4102259215219976, Threshold 0.08988766953411517\n",
      "F1 Score 0.4024461269656377, Threshold 0.08181095854591636\n",
      "F1 Score 0.4023289665211063, Threshold 0.08153361935216041\n",
      "F1 Score 0.35297118082121903, Threshold 0.03069256982670302\n",
      "F1 Score 0.35288118306986227, Threshold 0.030641646110393158\n",
      "F1 Score 0.3331728454501685, Threshold 0.0026778899247829604\n"
     ]
    }
   ],
   "source": [
    "f1_result=[]\n",
    "for t in thresholds:\n",
    "    new_pred = scores > t\n",
    "    cm = confusion_matrix(y_test, new_pred)\n",
    "    precision = cm[1,1]/(cm[1,1] + cm[0,1])\n",
    "    recall = cm[1,1]/(cm[1,1] + cm[1,0])\n",
    "    f1 = 2*precision*recall/(precision+recall)\n",
    "    f1_result.append(f1)\n",
    "    print('F1 Score {}, Threshold {}'.format(f1, t))"
   ]
  },
  {
   "cell_type": "code",
   "execution_count": 25,
   "metadata": {},
   "outputs": [
    {
     "name": "stdout",
     "output_type": "stream",
     "text": [
      "0.787125091441112\n"
     ]
    }
   ],
   "source": [
    "point=np.nanmax(f1_result)\n",
    "print(point)\n",
    "#F1 Score 0.787125091441112, Threshold 0.56354704736285"
   ]
  },
  {
   "cell_type": "code",
   "execution_count": 26,
   "metadata": {},
   "outputs": [
    {
     "data": {
      "text/plain": [
       "Text(0.5, 1.0, 'Precision and Recall Curve')"
      ]
     },
     "execution_count": 26,
     "metadata": {},
     "output_type": "execute_result"
    },
    {
     "data": {
      "image/png": "[encoded data removed]",
      "text/plain": [
       "<Figure size 432x288 with 1 Axes>"
      ]
     },
     "metadata": {
      "needs_background": "light"
     },
     "output_type": "display_data"
    }
   ],
   "source": [
    "precision, recall, thresholds = precision_recall_curve(y_test, scores)\n",
    "plt.plot(recall, precision)\n",
    "plt.xlabel('Recall')\n",
    "plt.ylabel('Precision')\n",
    "plt.title('Precision and Recall Curve')"
   ]
  },
  {
   "cell_type": "code",
   "execution_count": 37,
   "metadata": {},
   "outputs": [
    {
     "name": "stdout",
     "output_type": "stream",
     "text": [
      "0.8715228188524996\n"
     ]
    }
   ],
   "source": [
    "from sklearn.metrics import average_precision_score\n",
    "avg_score=average_precision_score(y_test, scores)\n",
    "print(avg_score)"
   ]
  },
  {
   "cell_type": "markdown",
   "metadata": {},
   "source": [
    "## Part 3. Naive Bayesian\n",
    "\n",
    "(a) Plotting the ROC curve and compute the area under the ROC curve. \n",
    "\n",
    "(b) Plotting the precision recall curve and compute the average precision. Choosing an optimal threshold to maximum the F1-score"
   ]
  },
  {
   "cell_type": "code",
   "execution_count": 31,
   "metadata": {},
   "outputs": [
    {
     "name": "stdout",
     "output_type": "stream",
     "text": [
      "\n",
      " Confusion Matrix: \n",
      "[[1737 1034]\n",
      " [ 191  501]]\n",
      "              precision    recall  f1-score   support\n",
      "\n",
      "           0       0.90      0.63      0.74      2771\n",
      "           1       0.33      0.72      0.45       692\n",
      "\n",
      "    accuracy                           0.65      3463\n",
      "   macro avg       0.61      0.68      0.59      3463\n",
      "weighted avg       0.79      0.65      0.68      3463\n",
      "\n"
     ]
    }
   ],
   "source": [
    "from sklearn.naive_bayes import GaussianNB\n",
    "model = GaussianNB()\n",
    "model.fit(X_train, y_train)\n",
    "model.score(X_test, y_test)\n",
    "pred1 = model.predict(X_test)\n",
    "CM = confusion_matrix(y_test, pred1)\n",
    "print(f\"\\n Confusion Matrix: \\n{CM}\")\n",
    "print(classification_report(y_test, pred1))\n"
   ]
  },
  {
   "cell_type": "code",
   "execution_count": 30,
   "metadata": {},
   "outputs": [
    {
     "name": "stdout",
     "output_type": "stream",
     "text": [
      "Area under the ROC Curve = 0.6754189760588089\n"
     ]
    }
   ],
   "source": [
    "model1 = GaussianNB()\n",
    "model1.fit(X_train, y_train)\n",
    "pred2 = model1.predict_proba(X_test)\n",
    "pred2 = pred2[:, 1]\n",
    "auc = roc_auc_score(y_test, pred2)\n",
    "print('Area under the ROC Curve = {}'.format(auc))\n",
    "fpr1, tpr1, thresholds1 = roc_curve(y_test, pred2)"
   ]
  },
  {
   "cell_type": "code",
   "execution_count": 32,
   "metadata": {},
   "outputs": [
    {
     "data": {
      "text/plain": [
       "Text(0.5, 1.0, 'ROC Curve for Naive Bayes')"
      ]
     },
     "execution_count": 32,
     "metadata": {},
     "output_type": "execute_result"
    },
    {
     "data": {
      "image/png": "[encoded data removed]",
      "text/plain": [
       "<Figure size 432x288 with 1 Axes>"
      ]
     },
     "metadata": {
      "needs_background": "light"
     },
     "output_type": "display_data"
    }
   ],
   "source": [
    "plt.plot(fpr1, tpr1)\n",
    "plt.xlabel('FPR')\n",
    "plt.ylabel('TPR')\n",
    "plt.title('ROC Curve for Naive Bayes')"
   ]
  },
  {
   "cell_type": "code",
   "execution_count": 34,
   "metadata": {},
   "outputs": [
    {
     "name": "stdout",
     "output_type": "stream",
     "text": [
      "F1 Score nan, Threshold 0.0026778899247829604\n",
      "F1 Score nan, Threshold 0.0026778899247829604\n",
      "F1 Score 0.44993264481365064, Threshold 0.0026778899247829604\n"
     ]
    },
    {
     "name": "stderr",
     "output_type": "stream",
     "text": [
      "C:\\Users\\abish\\Anaconda3\\lib\\site-packages\\ipykernel_launcher.py:5: RuntimeWarning: invalid value encountered in longlong_scalars\n",
      "  \"\"\"\n"
     ]
    }
   ],
   "source": [
    "f_result=[]\n",
    "for i in thresholds1:\n",
    "    pred = pred2 > i\n",
    "    cm = confusion_matrix(y_test, pred)\n",
    "    precision = cm[1,1]/(cm[1,1] + cm[0,1])\n",
    "    recall = cm[1,1]/(cm[1,1] + cm[1,0])\n",
    "    f1 = 2*precision*recall/(precision+recall)\n",
    "    f_result.append(f1)\n",
    "    print('F1 Score {}, Threshold {}'.format(f1, t))"
   ]
  },
  {
   "cell_type": "code",
   "execution_count": 35,
   "metadata": {},
   "outputs": [
    {
     "data": {
      "text/plain": [
       "Text(0.5, 1.0, 'Precision and Recall Curve')"
      ]
     },
     "execution_count": 35,
     "metadata": {},
     "output_type": "execute_result"
    },
    {
     "data": {
      "image/png": "[encoded data removed]",
      "text/plain": [
       "<Figure size 432x288 with 1 Axes>"
      ]
     },
     "metadata": {
      "needs_background": "light"
     },
     "output_type": "display_data"
    }
   ],
   "source": [
    "precision, recall, thresholds = precision_recall_curve(y_test, pred2)\n",
    "plt.plot(recall,precision )\n",
    "plt.xlabel('Recall')\n",
    "plt.ylabel('Precision')\n",
    "plt.title('Precision and Recall Curve')"
   ]
  },
  {
   "cell_type": "code",
   "execution_count": 38,
   "metadata": {},
   "outputs": [
    {
     "name": "stdout",
     "output_type": "stream",
     "text": [
      "0.29145299722694873\n"
     ]
    }
   ],
   "source": [
    "avg_score1=average_precision_score(y_test, pred2)\n",
    "print(avg_score1)"
   ]
  },
  {
   "cell_type": "code",
   "execution_count": null,
   "metadata": {},
   "outputs": [],
   "source": []
  }
 ],
 "metadata": {
  "kernelspec": {
   "display_name": "Python 3",
   "language": "python",
   "name": "python3"
  },
  "language_info": {
   "codemirror_mode": {
    "name": "ipython",
    "version": 3
   },
   "file_extension": ".py",
   "mimetype": "text/x-python",
   "name": "python",
   "nbconvert_exporter": "python",
   "pygments_lexer": "ipython3",
   "version": "3.7.4"
  }
 },
 "nbformat": 4,
 "nbformat_minor": 4
}
