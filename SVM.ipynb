{
 "cells": [
  {
   "cell_type": "code",
   "execution_count": 1,
   "metadata": {},
   "outputs": [
    {
     "name": "stderr",
     "output_type": "stream",
     "text": [
      "In C:\\Users\\abish\\Anaconda3\\lib\\site-packages\\matplotlib\\mpl-data\\stylelib\\_classic_test.mplstyle: \n",
      "The text.latex.preview rcparam was deprecated in Matplotlib 3.3 and will be removed two minor releases later.\n",
      "In C:\\Users\\abish\\Anaconda3\\lib\\site-packages\\matplotlib\\mpl-data\\stylelib\\_classic_test.mplstyle: \n",
      "The mathtext.fallback_to_cm rcparam was deprecated in Matplotlib 3.3 and will be removed two minor releases later.\n",
      "In C:\\Users\\abish\\Anaconda3\\lib\\site-packages\\matplotlib\\mpl-data\\stylelib\\_classic_test.mplstyle: Support for setting the 'mathtext.fallback_to_cm' rcParam is deprecated since 3.3 and will be removed two minor releases later; use 'mathtext.fallback : 'cm' instead.\n",
      "In C:\\Users\\abish\\Anaconda3\\lib\\site-packages\\matplotlib\\mpl-data\\stylelib\\_classic_test.mplstyle: \n",
      "The validate_bool_maybe_none function was deprecated in Matplotlib 3.3 and will be removed two minor releases later.\n",
      "In C:\\Users\\abish\\Anaconda3\\lib\\site-packages\\matplotlib\\mpl-data\\stylelib\\_classic_test.mplstyle: \n",
      "The savefig.jpeg_quality rcparam was deprecated in Matplotlib 3.3 and will be removed two minor releases later.\n",
      "In C:\\Users\\abish\\Anaconda3\\lib\\site-packages\\matplotlib\\mpl-data\\stylelib\\_classic_test.mplstyle: \n",
      "The keymap.all_axes rcparam was deprecated in Matplotlib 3.3 and will be removed two minor releases later.\n",
      "In C:\\Users\\abish\\Anaconda3\\lib\\site-packages\\matplotlib\\mpl-data\\stylelib\\_classic_test.mplstyle: \n",
      "The animation.avconv_path rcparam was deprecated in Matplotlib 3.3 and will be removed two minor releases later.\n",
      "In C:\\Users\\abish\\Anaconda3\\lib\\site-packages\\matplotlib\\mpl-data\\stylelib\\_classic_test.mplstyle: \n",
      "The animation.avconv_args rcparam was deprecated in Matplotlib 3.3 and will be removed two minor releases later.\n"
     ]
    }
   ],
   "source": [
    "import numpy as np\n",
    "import pandas as pd\n",
    "from sklearn.model_selection import train_test_split\n",
    "from sklearn import svm\n",
    "from sklearn.svm import SVC\n",
    "from sklearn.preprocessing import LabelEncoder\n",
    "import sklearn.metrics as metrics\n",
    "from sklearn.model_selection import KFold\n",
    "from sklearn.model_selection import GridSearchCV\n",
    "from sklearn.metrics import accuracy_score, confusion_matrix, classification_report\n",
    "from sklearn import model_selection\n",
    "import matplotlib.pyplot as plt\n",
    "import seaborn as sns\n",
    "from sklearn.metrics import f1_score\n",
    "from sklearn.preprocessing import StandardScaler\n",
    "from sklearn.metrics import balanced_accuracy_score\n",
    "from sklearn.metrics import auc\n",
    "from sklearn.metrics import plot_roc_curve\n",
    "%matplotlib inline"
   ]
  },
  {
   "cell_type": "code",
   "execution_count": 2,
   "metadata": {},
   "outputs": [
    {
     "data": {
      "text/html": [
       "<div>\n",
       "<style scoped>\n",
       "    .dataframe tbody tr th:only-of-type {\n",
       "        vertical-align: middle;\n",
       "    }\n",
       "\n",
       "    .dataframe tbody tr th {\n",
       "        vertical-align: top;\n",
       "    }\n",
       "\n",
       "    .dataframe thead th {\n",
       "        text-align: right;\n",
       "    }\n",
       "</style>\n",
       "<table border=\"1\" class=\"dataframe\">\n",
       "  <thead>\n",
       "    <tr style=\"text-align: right;\">\n",
       "      <th></th>\n",
       "      <th>Pregnancies</th>\n",
       "      <th>Glucose</th>\n",
       "      <th>BloodPressure</th>\n",
       "      <th>SkinThickness</th>\n",
       "      <th>Insulin</th>\n",
       "      <th>BMI</th>\n",
       "      <th>DiabetesPedigreeFunction</th>\n",
       "      <th>Age</th>\n",
       "      <th>Class</th>\n",
       "    </tr>\n",
       "  </thead>\n",
       "  <tbody>\n",
       "    <tr>\n",
       "      <td>0</td>\n",
       "      <td>6</td>\n",
       "      <td>148</td>\n",
       "      <td>72</td>\n",
       "      <td>35</td>\n",
       "      <td>0</td>\n",
       "      <td>33.6</td>\n",
       "      <td>0.627</td>\n",
       "      <td>50</td>\n",
       "      <td>1</td>\n",
       "    </tr>\n",
       "    <tr>\n",
       "      <td>1</td>\n",
       "      <td>1</td>\n",
       "      <td>85</td>\n",
       "      <td>66</td>\n",
       "      <td>29</td>\n",
       "      <td>0</td>\n",
       "      <td>26.6</td>\n",
       "      <td>0.351</td>\n",
       "      <td>31</td>\n",
       "      <td>0</td>\n",
       "    </tr>\n",
       "    <tr>\n",
       "      <td>2</td>\n",
       "      <td>8</td>\n",
       "      <td>183</td>\n",
       "      <td>64</td>\n",
       "      <td>0</td>\n",
       "      <td>0</td>\n",
       "      <td>23.3</td>\n",
       "      <td>0.672</td>\n",
       "      <td>32</td>\n",
       "      <td>1</td>\n",
       "    </tr>\n",
       "    <tr>\n",
       "      <td>3</td>\n",
       "      <td>1</td>\n",
       "      <td>89</td>\n",
       "      <td>66</td>\n",
       "      <td>23</td>\n",
       "      <td>94</td>\n",
       "      <td>28.1</td>\n",
       "      <td>0.167</td>\n",
       "      <td>21</td>\n",
       "      <td>0</td>\n",
       "    </tr>\n",
       "    <tr>\n",
       "      <td>4</td>\n",
       "      <td>0</td>\n",
       "      <td>137</td>\n",
       "      <td>40</td>\n",
       "      <td>35</td>\n",
       "      <td>168</td>\n",
       "      <td>43.1</td>\n",
       "      <td>2.288</td>\n",
       "      <td>33</td>\n",
       "      <td>1</td>\n",
       "    </tr>\n",
       "  </tbody>\n",
       "</table>\n",
       "</div>"
      ],
      "text/plain": [
       "   Pregnancies  Glucose  BloodPressure  SkinThickness  Insulin   BMI  \\\n",
       "0            6      148             72             35        0  33.6   \n",
       "1            1       85             66             29        0  26.6   \n",
       "2            8      183             64              0        0  23.3   \n",
       "3            1       89             66             23       94  28.1   \n",
       "4            0      137             40             35      168  43.1   \n",
       "\n",
       "   DiabetesPedigreeFunction  Age  Class  \n",
       "0                     0.627   50      1  \n",
       "1                     0.351   31      0  \n",
       "2                     0.672   32      1  \n",
       "3                     0.167   21      0  \n",
       "4                     2.288   33      1  "
      ]
     },
     "execution_count": 2,
     "metadata": {},
     "output_type": "execute_result"
    }
   ],
   "source": [
    "# Reading the Diabetes-Dataset file to perform the support vector machine\n",
    "names=['Pregnancies', 'Glucose', 'BloodPressure', \n",
    "       'SkinThickness', 'Insulin', 'BMI',\n",
    "       'DiabetesPedigreeFunction', 'Age', 'Class']\n",
    "df=pd.read_csv(r'C:\\Users\\abish\\Downloads\\WPC 300\\New folder\\pima-indians-diabetes.csv',skiprows=9, header=None,names=names)\n",
    "df.head()"
   ]
  },
  {
   "cell_type": "code",
   "execution_count": 3,
   "metadata": {},
   "outputs": [
    {
     "name": "stdout",
     "output_type": "stream",
     "text": [
      "The shape of Diabetes Dataset: (768, 9)\n"
     ]
    }
   ],
   "source": [
    "print('The shape of Diabetes Dataset:', df.shape)"
   ]
  },
  {
   "cell_type": "code",
   "execution_count": 4,
   "metadata": {},
   "outputs": [
    {
     "name": "stdout",
     "output_type": "stream",
     "text": [
      "The shape of Diabetes Dataset: (392, 9)\n"
     ]
    }
   ],
   "source": [
    "# Remove missing values\n",
    "df = df[df['Glucose'] != 0]\n",
    "df = df[df['BloodPressure'] != 0]\n",
    "df = df[df['SkinThickness'] != 0]\n",
    "df = df[df['Insulin'] != 0]\n",
    "df = df[df['BMI'] != 0]\n",
    "df = df[df['Age'] != 0]\n",
    "print('The shape of Diabetes Dataset:', df.shape)"
   ]
  },
  {
   "cell_type": "code",
   "execution_count": 5,
   "metadata": {},
   "outputs": [
    {
     "data": {
      "image/png": "[encoded data removed]",
      "text/plain": [
       "<Figure size 720x360 with 2 Axes>"
      ]
     },
     "metadata": {
      "needs_background": "light"
     },
     "output_type": "display_data"
    }
   ],
   "source": [
    "#Corelation Matrix\n",
    "f,ax=plt.subplots(figsize=(10,5))\n",
    "sns.heatmap(df.corr(), cmap = \"BuGn\", annot=True, linewidth=1, fmt='.4f', ax=ax)\n",
    "plt.show()"
   ]
  },
  {
   "cell_type": "code",
   "execution_count": 6,
   "metadata": {},
   "outputs": [
    {
     "data": {
      "image/png": "[encoded data removed]",
      "text/plain": [
       "<Figure size 1080x720 with 1 Axes>"
      ]
     },
     "metadata": {
      "needs_background": "light"
     },
     "output_type": "display_data"
    }
   ],
   "source": [
    "#Decision variable in the dataset is 'Class', countplot of the decision variable\n",
    "plt.figure(figsize=(15,10))\n",
    "Class_plot=sns.countplot(df.Class)\n",
    "#To show the count of the respective class on a barplot \n",
    "for q in Class_plot.patches:\n",
    "    Class_plot.annotate(str(q.get_height()), (q.get_x()+0.35, q.get_height()+5), va='bottom', color='black')\n",
    "plt.show()"
   ]
  },
  {
   "cell_type": "markdown",
   "metadata": {},
   "source": [
    "- As the counts of the target variable are in the ratio 1:2, we need to balance the data to predict the correct accuracy of the model"
   ]
  },
  {
   "cell_type": "code",
   "execution_count": 7,
   "metadata": {},
   "outputs": [],
   "source": [
    "#Assigning the X and y\n",
    "X=df.loc[:, df.columns != 'Class']\n",
    "y=df.Class"
   ]
  },
  {
   "cell_type": "code",
   "execution_count": 8,
   "metadata": {},
   "outputs": [
    {
     "data": {
      "text/html": [
       "<div>\n",
       "<style scoped>\n",
       "    .dataframe tbody tr th:only-of-type {\n",
       "        vertical-align: middle;\n",
       "    }\n",
       "\n",
       "    .dataframe tbody tr th {\n",
       "        vertical-align: top;\n",
       "    }\n",
       "\n",
       "    .dataframe thead th {\n",
       "        text-align: right;\n",
       "    }\n",
       "</style>\n",
       "<table border=\"1\" class=\"dataframe\">\n",
       "  <thead>\n",
       "    <tr style=\"text-align: right;\">\n",
       "      <th></th>\n",
       "      <th>Mean</th>\n",
       "      <th>Median</th>\n",
       "      <th>Standard Deviation</th>\n",
       "    </tr>\n",
       "  </thead>\n",
       "  <tbody>\n",
       "    <tr>\n",
       "      <td>Pregnancies</td>\n",
       "      <td>3.301020</td>\n",
       "      <td>2.0000</td>\n",
       "      <td>3.211424</td>\n",
       "    </tr>\n",
       "    <tr>\n",
       "      <td>Glucose</td>\n",
       "      <td>122.627551</td>\n",
       "      <td>119.0000</td>\n",
       "      <td>30.860781</td>\n",
       "    </tr>\n",
       "    <tr>\n",
       "      <td>BloodPressure</td>\n",
       "      <td>70.663265</td>\n",
       "      <td>70.0000</td>\n",
       "      <td>12.496092</td>\n",
       "    </tr>\n",
       "    <tr>\n",
       "      <td>SkinThickness</td>\n",
       "      <td>29.145408</td>\n",
       "      <td>29.0000</td>\n",
       "      <td>10.516424</td>\n",
       "    </tr>\n",
       "    <tr>\n",
       "      <td>Insulin</td>\n",
       "      <td>156.056122</td>\n",
       "      <td>125.5000</td>\n",
       "      <td>118.841690</td>\n",
       "    </tr>\n",
       "    <tr>\n",
       "      <td>BMI</td>\n",
       "      <td>33.086224</td>\n",
       "      <td>33.2000</td>\n",
       "      <td>7.027659</td>\n",
       "    </tr>\n",
       "    <tr>\n",
       "      <td>DiabetesPedigreeFunction</td>\n",
       "      <td>0.523046</td>\n",
       "      <td>0.4495</td>\n",
       "      <td>0.345488</td>\n",
       "    </tr>\n",
       "    <tr>\n",
       "      <td>Age</td>\n",
       "      <td>30.864796</td>\n",
       "      <td>27.0000</td>\n",
       "      <td>10.200777</td>\n",
       "    </tr>\n",
       "  </tbody>\n",
       "</table>\n",
       "</div>"
      ],
      "text/plain": [
       "                                Mean    Median  Standard Deviation\n",
       "Pregnancies                 3.301020    2.0000            3.211424\n",
       "Glucose                   122.627551  119.0000           30.860781\n",
       "BloodPressure              70.663265   70.0000           12.496092\n",
       "SkinThickness              29.145408   29.0000           10.516424\n",
       "Insulin                   156.056122  125.5000          118.841690\n",
       "BMI                        33.086224   33.2000            7.027659\n",
       "DiabetesPedigreeFunction    0.523046    0.4495            0.345488\n",
       "Age                        30.864796   27.0000           10.200777"
      ]
     },
     "execution_count": 8,
     "metadata": {},
     "output_type": "execute_result"
    }
   ],
   "source": [
    "#Summary of Statistics\n",
    "# Mean, Median and Standard Deviation is calculated\n",
    "pd.DataFrame({'Mean': X.mean(),'Median': X.median(),'Standard Deviation': X.std()})"
   ]
  },
  {
   "cell_type": "code",
   "execution_count": 9,
   "metadata": {},
   "outputs": [
    {
     "data": {
      "text/html": [
       "<div>\n",
       "<style scoped>\n",
       "    .dataframe tbody tr th:only-of-type {\n",
       "        vertical-align: middle;\n",
       "    }\n",
       "\n",
       "    .dataframe tbody tr th {\n",
       "        vertical-align: top;\n",
       "    }\n",
       "\n",
       "    .dataframe thead th {\n",
       "        text-align: right;\n",
       "    }\n",
       "</style>\n",
       "<table border=\"1\" class=\"dataframe\">\n",
       "  <thead>\n",
       "    <tr style=\"text-align: right;\">\n",
       "      <th></th>\n",
       "      <th>Pregnancies</th>\n",
       "      <th>Glucose</th>\n",
       "      <th>BloodPressure</th>\n",
       "      <th>SkinThickness</th>\n",
       "      <th>Insulin</th>\n",
       "      <th>BMI</th>\n",
       "      <th>DiabetesPedigreeFunction</th>\n",
       "      <th>Age</th>\n",
       "    </tr>\n",
       "  </thead>\n",
       "  <tbody>\n",
       "    <tr>\n",
       "      <td>Pregnancies</td>\n",
       "      <td>10.313247</td>\n",
       "      <td>19.652043</td>\n",
       "      <td>8.561981</td>\n",
       "      <td>3.147933</td>\n",
       "      <td>30.144188</td>\n",
       "      <td>-0.572058</td>\n",
       "      <td>0.008390</td>\n",
       "      <td>22.263310</td>\n",
       "    </tr>\n",
       "    <tr>\n",
       "      <td>Glucose</td>\n",
       "      <td>19.652043</td>\n",
       "      <td>952.387781</td>\n",
       "      <td>80.994467</td>\n",
       "      <td>64.537672</td>\n",
       "      <td>2131.662900</td>\n",
       "      <td>45.439613</td>\n",
       "      <td>1.494605</td>\n",
       "      <td>108.179694</td>\n",
       "    </tr>\n",
       "    <tr>\n",
       "      <td>BloodPressure</td>\n",
       "      <td>8.561981</td>\n",
       "      <td>80.994467</td>\n",
       "      <td>156.152304</td>\n",
       "      <td>30.563156</td>\n",
       "      <td>146.295162</td>\n",
       "      <td>26.732178</td>\n",
       "      <td>-0.068951</td>\n",
       "      <td>38.245916</td>\n",
       "    </tr>\n",
       "    <tr>\n",
       "      <td>SkinThickness</td>\n",
       "      <td>3.147933</td>\n",
       "      <td>64.537672</td>\n",
       "      <td>30.563156</td>\n",
       "      <td>110.595171</td>\n",
       "      <td>227.710489</td>\n",
       "      <td>49.099706</td>\n",
       "      <td>0.583139</td>\n",
       "      <td>17.996692</td>\n",
       "    </tr>\n",
       "    <tr>\n",
       "      <td>Insulin</td>\n",
       "      <td>30.144188</td>\n",
       "      <td>2131.662900</td>\n",
       "      <td>146.295162</td>\n",
       "      <td>227.710489</td>\n",
       "      <td>14123.347226</td>\n",
       "      <td>189.081594</td>\n",
       "      <td>5.580072</td>\n",
       "      <td>263.163618</td>\n",
       "    </tr>\n",
       "    <tr>\n",
       "      <td>BMI</td>\n",
       "      <td>-0.572058</td>\n",
       "      <td>45.439613</td>\n",
       "      <td>26.732178</td>\n",
       "      <td>49.099706</td>\n",
       "      <td>189.081594</td>\n",
       "      <td>49.387994</td>\n",
       "      <td>0.385492</td>\n",
       "      <td>5.004782</td>\n",
       "    </tr>\n",
       "    <tr>\n",
       "      <td>DiabetesPedigreeFunction</td>\n",
       "      <td>0.008390</td>\n",
       "      <td>1.494605</td>\n",
       "      <td>-0.068951</td>\n",
       "      <td>0.583139</td>\n",
       "      <td>5.580072</td>\n",
       "      <td>0.385492</td>\n",
       "      <td>0.119362</td>\n",
       "      <td>0.299664</td>\n",
       "    </tr>\n",
       "    <tr>\n",
       "      <td>Age</td>\n",
       "      <td>22.263310</td>\n",
       "      <td>108.179694</td>\n",
       "      <td>38.245916</td>\n",
       "      <td>17.996692</td>\n",
       "      <td>263.163618</td>\n",
       "      <td>5.004782</td>\n",
       "      <td>0.299664</td>\n",
       "      <td>104.055842</td>\n",
       "    </tr>\n",
       "  </tbody>\n",
       "</table>\n",
       "</div>"
      ],
      "text/plain": [
       "                          Pregnancies      Glucose  BloodPressure  \\\n",
       "Pregnancies                 10.313247    19.652043       8.561981   \n",
       "Glucose                     19.652043   952.387781      80.994467   \n",
       "BloodPressure                8.561981    80.994467     156.152304   \n",
       "SkinThickness                3.147933    64.537672      30.563156   \n",
       "Insulin                     30.144188  2131.662900     146.295162   \n",
       "BMI                         -0.572058    45.439613      26.732178   \n",
       "DiabetesPedigreeFunction     0.008390     1.494605      -0.068951   \n",
       "Age                         22.263310   108.179694      38.245916   \n",
       "\n",
       "                          SkinThickness       Insulin         BMI  \\\n",
       "Pregnancies                    3.147933     30.144188   -0.572058   \n",
       "Glucose                       64.537672   2131.662900   45.439613   \n",
       "BloodPressure                 30.563156    146.295162   26.732178   \n",
       "SkinThickness                110.595171    227.710489   49.099706   \n",
       "Insulin                      227.710489  14123.347226  189.081594   \n",
       "BMI                           49.099706    189.081594   49.387994   \n",
       "DiabetesPedigreeFunction       0.583139      5.580072    0.385492   \n",
       "Age                           17.996692    263.163618    5.004782   \n",
       "\n",
       "                          DiabetesPedigreeFunction         Age  \n",
       "Pregnancies                               0.008390   22.263310  \n",
       "Glucose                                   1.494605  108.179694  \n",
       "BloodPressure                            -0.068951   38.245916  \n",
       "SkinThickness                             0.583139   17.996692  \n",
       "Insulin                                   5.580072  263.163618  \n",
       "BMI                                       0.385492    5.004782  \n",
       "DiabetesPedigreeFunction                  0.119362    0.299664  \n",
       "Age                                       0.299664  104.055842  "
      ]
     },
     "execution_count": 9,
     "metadata": {},
     "output_type": "execute_result"
    }
   ],
   "source": [
    "# Covariance of X\n",
    "X_Covariance=X.cov()\n",
    "X_Covariance"
   ]
  },
  {
   "cell_type": "markdown",
   "metadata": {},
   "source": [
    "K=5 fold Cross validation is performed for the svm by choosing the hyperparameters above and using it Grid Search CV\n",
    "- The parameters that are changed from the SKLEARN defaults are:\n",
    "    1.\tKernal: Linear, sigmoid, poly and rbf  ; default= rbf\n",
    "    2.\tC : 10^-3 to 10^3 ; default=1\n",
    "    3.\tGamma: scale and auto ; default= scale\n",
    "    4.\tProbability= True, it is used to plot the roc curve\n",
    "    5.\tClass_weight= Balanced, it is used to adjust the weights of an imbalanced class. default= None\n",
    "    6.\tRandom_state= Any Integer, default=None\n"
   ]
  },
  {
   "cell_type": "code",
   "execution_count": 10,
   "metadata": {},
   "outputs": [],
   "source": [
    "kfold = model_selection.KFold(n_splits=5)\n",
    "model_kfold = SVC()"
   ]
  },
  {
   "cell_type": "code",
   "execution_count": 11,
   "metadata": {},
   "outputs": [],
   "source": [
    "parameters = {'kernel':['rbf'], 'C': [10**x for x in range(-3, 3)],'gamma': ['scale','auto'],'class_weight':['balanced']}\n",
    "clf=GridSearchCV(model_kfold,parameters,cv=kfold,n_jobs=-1)"
   ]
  },
  {
   "cell_type": "code",
   "execution_count": 12,
   "metadata": {},
   "outputs": [
    {
     "data": {
      "text/plain": [
       "GridSearchCV(cv=KFold(n_splits=5, random_state=None, shuffle=False),\n",
       "             estimator=SVC(), n_jobs=-1,\n",
       "             param_grid={'C': [0.001, 0.01, 0.1, 1, 10, 100],\n",
       "                         'class_weight': ['balanced'],\n",
       "                         'gamma': ['scale', 'auto'], 'kernel': ['rbf']})"
      ]
     },
     "execution_count": 12,
     "metadata": {},
     "output_type": "execute_result"
    }
   ],
   "source": [
    "#Fitting the model\n",
    "clf.fit(X,y)"
   ]
  },
  {
   "cell_type": "code",
   "execution_count": 13,
   "metadata": {},
   "outputs": [
    {
     "data": {
      "text/html": [
       "<div>\n",
       "<style scoped>\n",
       "    .dataframe tbody tr th:only-of-type {\n",
       "        vertical-align: middle;\n",
       "    }\n",
       "\n",
       "    .dataframe tbody tr th {\n",
       "        vertical-align: top;\n",
       "    }\n",
       "\n",
       "    .dataframe thead th {\n",
       "        text-align: right;\n",
       "    }\n",
       "</style>\n",
       "<table border=\"1\" class=\"dataframe\">\n",
       "  <thead>\n",
       "    <tr style=\"text-align: right;\">\n",
       "      <th></th>\n",
       "      <th>mean_fit_time</th>\n",
       "      <th>std_fit_time</th>\n",
       "      <th>mean_score_time</th>\n",
       "      <th>std_score_time</th>\n",
       "      <th>param_C</th>\n",
       "      <th>param_class_weight</th>\n",
       "      <th>param_gamma</th>\n",
       "      <th>param_kernel</th>\n",
       "      <th>params</th>\n",
       "      <th>split0_test_score</th>\n",
       "      <th>split1_test_score</th>\n",
       "      <th>split2_test_score</th>\n",
       "      <th>split3_test_score</th>\n",
       "      <th>split4_test_score</th>\n",
       "      <th>mean_test_score</th>\n",
       "      <th>std_test_score</th>\n",
       "      <th>rank_test_score</th>\n",
       "    </tr>\n",
       "  </thead>\n",
       "  <tbody>\n",
       "    <tr>\n",
       "      <td>10</td>\n",
       "      <td>0.008378</td>\n",
       "      <td>0.000798</td>\n",
       "      <td>0.002992</td>\n",
       "      <td>4.909339e-07</td>\n",
       "      <td>100</td>\n",
       "      <td>balanced</td>\n",
       "      <td>scale</td>\n",
       "      <td>rbf</td>\n",
       "      <td>{'C': 100, 'class_weight': 'balanced', 'gamma'...</td>\n",
       "      <td>0.772152</td>\n",
       "      <td>0.620253</td>\n",
       "      <td>0.820513</td>\n",
       "      <td>0.820513</td>\n",
       "      <td>0.730769</td>\n",
       "      <td>0.752840</td>\n",
       "      <td>0.074295</td>\n",
       "      <td>1</td>\n",
       "    </tr>\n",
       "    <tr>\n",
       "      <td>8</td>\n",
       "      <td>0.007181</td>\n",
       "      <td>0.001466</td>\n",
       "      <td>0.002992</td>\n",
       "      <td>5.001110e-07</td>\n",
       "      <td>10</td>\n",
       "      <td>balanced</td>\n",
       "      <td>scale</td>\n",
       "      <td>rbf</td>\n",
       "      <td>{'C': 10, 'class_weight': 'balanced', 'gamma':...</td>\n",
       "      <td>0.746835</td>\n",
       "      <td>0.632911</td>\n",
       "      <td>0.807692</td>\n",
       "      <td>0.833333</td>\n",
       "      <td>0.730769</td>\n",
       "      <td>0.750308</td>\n",
       "      <td>0.069803</td>\n",
       "      <td>2</td>\n",
       "    </tr>\n",
       "    <tr>\n",
       "      <td>6</td>\n",
       "      <td>0.006981</td>\n",
       "      <td>0.000631</td>\n",
       "      <td>0.002792</td>\n",
       "      <td>3.984692e-04</td>\n",
       "      <td>1</td>\n",
       "      <td>balanced</td>\n",
       "      <td>scale</td>\n",
       "      <td>rbf</td>\n",
       "      <td>{'C': 1, 'class_weight': 'balanced', 'gamma': ...</td>\n",
       "      <td>0.721519</td>\n",
       "      <td>0.658228</td>\n",
       "      <td>0.769231</td>\n",
       "      <td>0.782051</td>\n",
       "      <td>0.666667</td>\n",
       "      <td>0.719539</td>\n",
       "      <td>0.050864</td>\n",
       "      <td>3</td>\n",
       "    </tr>\n",
       "    <tr>\n",
       "      <td>4</td>\n",
       "      <td>0.007381</td>\n",
       "      <td>0.000488</td>\n",
       "      <td>0.004588</td>\n",
       "      <td>2.239305e-03</td>\n",
       "      <td>0.1</td>\n",
       "      <td>balanced</td>\n",
       "      <td>scale</td>\n",
       "      <td>rbf</td>\n",
       "      <td>{'C': 0.1, 'class_weight': 'balanced', 'gamma'...</td>\n",
       "      <td>0.721519</td>\n",
       "      <td>0.683544</td>\n",
       "      <td>0.730769</td>\n",
       "      <td>0.782051</td>\n",
       "      <td>0.641026</td>\n",
       "      <td>0.711782</td>\n",
       "      <td>0.047322</td>\n",
       "      <td>4</td>\n",
       "    </tr>\n",
       "    <tr>\n",
       "      <td>0</td>\n",
       "      <td>0.009374</td>\n",
       "      <td>0.000489</td>\n",
       "      <td>0.003792</td>\n",
       "      <td>7.468088e-04</td>\n",
       "      <td>0.001</td>\n",
       "      <td>balanced</td>\n",
       "      <td>scale</td>\n",
       "      <td>rbf</td>\n",
       "      <td>{'C': 0.001, 'class_weight': 'balanced', 'gamm...</td>\n",
       "      <td>0.645570</td>\n",
       "      <td>0.569620</td>\n",
       "      <td>0.705128</td>\n",
       "      <td>0.743590</td>\n",
       "      <td>0.679487</td>\n",
       "      <td>0.668679</td>\n",
       "      <td>0.058998</td>\n",
       "      <td>5</td>\n",
       "    </tr>\n",
       "  </tbody>\n",
       "</table>\n",
       "</div>"
      ],
      "text/plain": [
       "    mean_fit_time  std_fit_time  mean_score_time  std_score_time param_C  \\\n",
       "10       0.008378      0.000798         0.002992    4.909339e-07     100   \n",
       "8        0.007181      0.001466         0.002992    5.001110e-07      10   \n",
       "6        0.006981      0.000631         0.002792    3.984692e-04       1   \n",
       "4        0.007381      0.000488         0.004588    2.239305e-03     0.1   \n",
       "0        0.009374      0.000489         0.003792    7.468088e-04   0.001   \n",
       "\n",
       "   param_class_weight param_gamma param_kernel  \\\n",
       "10           balanced       scale          rbf   \n",
       "8            balanced       scale          rbf   \n",
       "6            balanced       scale          rbf   \n",
       "4            balanced       scale          rbf   \n",
       "0            balanced       scale          rbf   \n",
       "\n",
       "                                               params  split0_test_score  \\\n",
       "10  {'C': 100, 'class_weight': 'balanced', 'gamma'...           0.772152   \n",
       "8   {'C': 10, 'class_weight': 'balanced', 'gamma':...           0.746835   \n",
       "6   {'C': 1, 'class_weight': 'balanced', 'gamma': ...           0.721519   \n",
       "4   {'C': 0.1, 'class_weight': 'balanced', 'gamma'...           0.721519   \n",
       "0   {'C': 0.001, 'class_weight': 'balanced', 'gamm...           0.645570   \n",
       "\n",
       "    split1_test_score  split2_test_score  split3_test_score  \\\n",
       "10           0.620253           0.820513           0.820513   \n",
       "8            0.632911           0.807692           0.833333   \n",
       "6            0.658228           0.769231           0.782051   \n",
       "4            0.683544           0.730769           0.782051   \n",
       "0            0.569620           0.705128           0.743590   \n",
       "\n",
       "    split4_test_score  mean_test_score  std_test_score  rank_test_score  \n",
       "10           0.730769         0.752840        0.074295                1  \n",
       "8            0.730769         0.750308        0.069803                2  \n",
       "6            0.666667         0.719539        0.050864                3  \n",
       "4            0.641026         0.711782        0.047322                4  \n",
       "0            0.679487         0.668679        0.058998                5  "
      ]
     },
     "execution_count": 13,
     "metadata": {},
     "output_type": "execute_result"
    }
   ],
   "source": [
    "#Creating a dataframe to print the result and sorting the mean test score in descending order\n",
    "p=pd.DataFrame(clf.cv_results_).sort_values('mean_test_score',ascending=False)\n",
    "p.head()"
   ]
  },
  {
   "cell_type": "code",
   "execution_count": 14,
   "metadata": {},
   "outputs": [],
   "source": [
    "#Grid Search2 \n",
    "parameters1 = {'kernel':['sigmoid','linear','poly'], 'C': [10**x for x in range(-3, 3)],'class_weight':['balanced']}\n",
    "clf1=GridSearchCV(model_kfold,parameters1,cv=kfold,n_jobs=-1)"
   ]
  },
  {
   "cell_type": "code",
   "execution_count": 15,
   "metadata": {},
   "outputs": [
    {
     "data": {
      "text/plain": [
       "GridSearchCV(cv=KFold(n_splits=5, random_state=None, shuffle=False),\n",
       "             estimator=SVC(), n_jobs=-1,\n",
       "             param_grid={'C': [0.001, 0.01, 0.1, 1, 10, 100],\n",
       "                         'class_weight': ['balanced'],\n",
       "                         'kernel': ['sigmoid', 'linear', 'poly']})"
      ]
     },
     "execution_count": 15,
     "metadata": {},
     "output_type": "execute_result"
    }
   ],
   "source": [
    "#Fitting the model\n",
    "clf1.fit(X,y)"
   ]
  },
  {
   "cell_type": "code",
   "execution_count": 16,
   "metadata": {},
   "outputs": [
    {
     "data": {
      "text/html": [
       "<div>\n",
       "<style scoped>\n",
       "    .dataframe tbody tr th:only-of-type {\n",
       "        vertical-align: middle;\n",
       "    }\n",
       "\n",
       "    .dataframe tbody tr th {\n",
       "        vertical-align: top;\n",
       "    }\n",
       "\n",
       "    .dataframe thead th {\n",
       "        text-align: right;\n",
       "    }\n",
       "</style>\n",
       "<table border=\"1\" class=\"dataframe\">\n",
       "  <thead>\n",
       "    <tr style=\"text-align: right;\">\n",
       "      <th></th>\n",
       "      <th>mean_fit_time</th>\n",
       "      <th>std_fit_time</th>\n",
       "      <th>mean_score_time</th>\n",
       "      <th>std_score_time</th>\n",
       "      <th>param_C</th>\n",
       "      <th>param_class_weight</th>\n",
       "      <th>param_kernel</th>\n",
       "      <th>params</th>\n",
       "      <th>split0_test_score</th>\n",
       "      <th>split1_test_score</th>\n",
       "      <th>split2_test_score</th>\n",
       "      <th>split3_test_score</th>\n",
       "      <th>split4_test_score</th>\n",
       "      <th>mean_test_score</th>\n",
       "      <th>std_test_score</th>\n",
       "      <th>rank_test_score</th>\n",
       "    </tr>\n",
       "  </thead>\n",
       "  <tbody>\n",
       "    <tr>\n",
       "      <td>7</td>\n",
       "      <td>0.111701</td>\n",
       "      <td>0.032818</td>\n",
       "      <td>0.001995</td>\n",
       "      <td>0.000631</td>\n",
       "      <td>0.1</td>\n",
       "      <td>balanced</td>\n",
       "      <td>linear</td>\n",
       "      <td>{'C': 0.1, 'class_weight': 'balanced', 'kernel...</td>\n",
       "      <td>0.772152</td>\n",
       "      <td>0.620253</td>\n",
       "      <td>0.820513</td>\n",
       "      <td>0.846154</td>\n",
       "      <td>0.846154</td>\n",
       "      <td>0.781045</td>\n",
       "      <td>0.084816</td>\n",
       "      <td>1</td>\n",
       "    </tr>\n",
       "    <tr>\n",
       "      <td>4</td>\n",
       "      <td>0.013164</td>\n",
       "      <td>0.002034</td>\n",
       "      <td>0.001795</td>\n",
       "      <td>0.000399</td>\n",
       "      <td>0.01</td>\n",
       "      <td>balanced</td>\n",
       "      <td>linear</td>\n",
       "      <td>{'C': 0.01, 'class_weight': 'balanced', 'kerne...</td>\n",
       "      <td>0.784810</td>\n",
       "      <td>0.607595</td>\n",
       "      <td>0.833333</td>\n",
       "      <td>0.820513</td>\n",
       "      <td>0.820513</td>\n",
       "      <td>0.773353</td>\n",
       "      <td>0.084443</td>\n",
       "      <td>2</td>\n",
       "    </tr>\n",
       "    <tr>\n",
       "      <td>1</td>\n",
       "      <td>0.006981</td>\n",
       "      <td>0.000892</td>\n",
       "      <td>0.002194</td>\n",
       "      <td>0.000746</td>\n",
       "      <td>0.001</td>\n",
       "      <td>balanced</td>\n",
       "      <td>linear</td>\n",
       "      <td>{'C': 0.001, 'class_weight': 'balanced', 'kern...</td>\n",
       "      <td>0.784810</td>\n",
       "      <td>0.620253</td>\n",
       "      <td>0.820513</td>\n",
       "      <td>0.820513</td>\n",
       "      <td>0.807692</td>\n",
       "      <td>0.770756</td>\n",
       "      <td>0.076373</td>\n",
       "      <td>3</td>\n",
       "    </tr>\n",
       "    <tr>\n",
       "      <td>17</td>\n",
       "      <td>0.088172</td>\n",
       "      <td>0.054582</td>\n",
       "      <td>0.001794</td>\n",
       "      <td>0.000398</td>\n",
       "      <td>100</td>\n",
       "      <td>balanced</td>\n",
       "      <td>poly</td>\n",
       "      <td>{'C': 100, 'class_weight': 'balanced', 'kernel...</td>\n",
       "      <td>0.746835</td>\n",
       "      <td>0.645570</td>\n",
       "      <td>0.807692</td>\n",
       "      <td>0.807692</td>\n",
       "      <td>0.807692</td>\n",
       "      <td>0.763096</td>\n",
       "      <td>0.063314</td>\n",
       "      <td>4</td>\n",
       "    </tr>\n",
       "    <tr>\n",
       "      <td>14</td>\n",
       "      <td>0.009966</td>\n",
       "      <td>0.001095</td>\n",
       "      <td>0.001803</td>\n",
       "      <td>0.000405</td>\n",
       "      <td>10</td>\n",
       "      <td>balanced</td>\n",
       "      <td>poly</td>\n",
       "      <td>{'C': 10, 'class_weight': 'balanced', 'kernel'...</td>\n",
       "      <td>0.772152</td>\n",
       "      <td>0.594937</td>\n",
       "      <td>0.807692</td>\n",
       "      <td>0.833333</td>\n",
       "      <td>0.794872</td>\n",
       "      <td>0.760597</td>\n",
       "      <td>0.085159</td>\n",
       "      <td>5</td>\n",
       "    </tr>\n",
       "  </tbody>\n",
       "</table>\n",
       "</div>"
      ],
      "text/plain": [
       "    mean_fit_time  std_fit_time  mean_score_time  std_score_time param_C  \\\n",
       "7        0.111701      0.032818         0.001995        0.000631     0.1   \n",
       "4        0.013164      0.002034         0.001795        0.000399    0.01   \n",
       "1        0.006981      0.000892         0.002194        0.000746   0.001   \n",
       "17       0.088172      0.054582         0.001794        0.000398     100   \n",
       "14       0.009966      0.001095         0.001803        0.000405      10   \n",
       "\n",
       "   param_class_weight param_kernel  \\\n",
       "7            balanced       linear   \n",
       "4            balanced       linear   \n",
       "1            balanced       linear   \n",
       "17           balanced         poly   \n",
       "14           balanced         poly   \n",
       "\n",
       "                                               params  split0_test_score  \\\n",
       "7   {'C': 0.1, 'class_weight': 'balanced', 'kernel...           0.772152   \n",
       "4   {'C': 0.01, 'class_weight': 'balanced', 'kerne...           0.784810   \n",
       "1   {'C': 0.001, 'class_weight': 'balanced', 'kern...           0.784810   \n",
       "17  {'C': 100, 'class_weight': 'balanced', 'kernel...           0.746835   \n",
       "14  {'C': 10, 'class_weight': 'balanced', 'kernel'...           0.772152   \n",
       "\n",
       "    split1_test_score  split2_test_score  split3_test_score  \\\n",
       "7            0.620253           0.820513           0.846154   \n",
       "4            0.607595           0.833333           0.820513   \n",
       "1            0.620253           0.820513           0.820513   \n",
       "17           0.645570           0.807692           0.807692   \n",
       "14           0.594937           0.807692           0.833333   \n",
       "\n",
       "    split4_test_score  mean_test_score  std_test_score  rank_test_score  \n",
       "7            0.846154         0.781045        0.084816                1  \n",
       "4            0.820513         0.773353        0.084443                2  \n",
       "1            0.807692         0.770756        0.076373                3  \n",
       "17           0.807692         0.763096        0.063314                4  \n",
       "14           0.794872         0.760597        0.085159                5  "
      ]
     },
     "execution_count": 16,
     "metadata": {},
     "output_type": "execute_result"
    }
   ],
   "source": [
    "#Creating a dataframe to print the result and sorting the mean test score in descending order\n",
    "p1=pd.DataFrame(clf1.cv_results_).sort_values('mean_test_score',ascending=False)\n",
    "p1.head()"
   ]
  },
  {
   "cell_type": "markdown",
   "metadata": {},
   "source": [
    "- From the above result we came to know that the parameters for the best model are: C= 0.1, class_weight='balanced'. Kernel = linear and its mean test score is 78.1%"
   ]
  },
  {
   "cell_type": "code",
   "execution_count": 17,
   "metadata": {},
   "outputs": [
    {
     "name": "stdout",
     "output_type": "stream",
     "text": [
      "Train set: (313, 8) (313,)\n",
      "Test set: (79, 8) (79,)\n"
     ]
    }
   ],
   "source": [
    "# Model prediction on the Train and Test set (20% of the data)\n",
    "X_train, X_test, y_train, y_test = train_test_split( X, y, test_size=0.2, random_state=4)\n",
    "print ('Train set:', X_train.shape,  y_train.shape)\n",
    "print ('Test set:', X_test.shape,  y_test.shape)"
   ]
  },
  {
   "cell_type": "code",
   "execution_count": 18,
   "metadata": {},
   "outputs": [
    {
     "data": {
      "text/plain": [
       "SVC(C=0.1, class_weight='balanced', kernel='linear', probability=True,\n",
       "    random_state=30)"
      ]
     },
     "execution_count": 18,
     "metadata": {},
     "output_type": "execute_result"
    }
   ],
   "source": [
    "model = svm.SVC(kernel='linear',C=0.1, probability=True, random_state=30, class_weight='balanced')\n",
    "model.fit(X_train, y_train)"
   ]
  },
  {
   "cell_type": "code",
   "execution_count": 19,
   "metadata": {},
   "outputs": [
    {
     "data": {
      "text/plain": [
       "array([1, 0, 0, 1, 1], dtype=int64)"
      ]
     },
     "execution_count": 19,
     "metadata": {},
     "output_type": "execute_result"
    }
   ],
   "source": [
    "#After being fitted, the model can then be used to predict new values:\n",
    "yhat = model.predict(X_test)\n",
    "yhat [0:5]"
   ]
  },
  {
   "cell_type": "code",
   "execution_count": 20,
   "metadata": {},
   "outputs": [
    {
     "name": "stdout",
     "output_type": "stream",
     "text": [
      "0.759493670886076\n"
     ]
    }
   ],
   "source": [
    "y_pred_train = model.predict(X_train)\n",
    "current_test_acc = metrics.accuracy_score(y_test, yhat)\n",
    "print(current_test_acc)"
   ]
  },
  {
   "cell_type": "code",
   "execution_count": 21,
   "metadata": {},
   "outputs": [
    {
     "name": "stdout",
     "output_type": "stream",
     "text": [
      "              precision    recall  f1-score   support\n",
      "\n",
      "           0       0.85      0.77      0.81        52\n",
      "           1       0.62      0.74      0.68        27\n",
      "\n",
      "    accuracy                           0.76        79\n",
      "   macro avg       0.74      0.75      0.74        79\n",
      "weighted avg       0.77      0.76      0.76        79\n",
      "\n"
     ]
    }
   ],
   "source": [
    "print(metrics.classification_report(y_test, yhat))"
   ]
  },
  {
   "cell_type": "code",
   "execution_count": 22,
   "metadata": {},
   "outputs": [
    {
     "name": "stdout",
     "output_type": "stream",
     "text": [
      "Train Accuracy = 0.7891373801916933 \n",
      "Test Accuracy = 0.759493670886076 \n",
      "Generalization Error on Train = 0.21086261980830667\n",
      "Generalization Error on Test = 0.240506329113924\n",
      "Balanced Accuracy score = 0.7711280628756356\n"
     ]
    }
   ],
   "source": [
    "# Accuracy (Train & Test) , Generalization Error for Train (1-Train Accuracy) and Test (1- Test Accuracy) is calculated:\n",
    "print('Train Accuracy = {} '.format(accuracy_score(y_train, y_pred_train)))\n",
    "print('Test Accuracy = {} '.format(accuracy_score(y_test, yhat)))\n",
    "print('Generalization Error on Train = {}'.format(1.0-accuracy_score(y_train, y_pred_train)))\n",
    "print('Generalization Error on Test = {}'.format(1.0-accuracy_score(y_test, yhat)))\n",
    "print('Balanced Accuracy score = {}'.format(balanced_accuracy_score(y_train, y_pred_train)))"
   ]
  },
  {
   "cell_type": "code",
   "execution_count": 24,
   "metadata": {},
   "outputs": [
    {
     "name": "stdout",
     "output_type": "stream",
     "text": [
      "              precision    recall  f1-score   support\n",
      "\n",
      "           0       0.86      0.82      0.84       210\n",
      "           1       0.67      0.72      0.69       103\n",
      "\n",
      "    accuracy                           0.79       313\n",
      "   macro avg       0.76      0.77      0.77       313\n",
      "weighted avg       0.79      0.79      0.79       313\n",
      "\n",
      "[[173  37]\n",
      " [ 29  74]]\n"
     ]
    }
   ],
   "source": [
    "# Compute confusion matrix for train dataset\n",
    "cnf_matrix1 = confusion_matrix(y_train, y_pred_train, labels=[0,1])\n",
    "np.set_printoptions(precision=2)\n",
    "print (classification_report(y_train, y_pred_train))\n",
    "print(cnf_matrix1)\n"
   ]
  },
  {
   "cell_type": "code",
   "execution_count": 26,
   "metadata": {},
   "outputs": [
    {
     "name": "stdout",
     "output_type": "stream",
     "text": [
      "              precision    recall  f1-score   support\n",
      "\n",
      "           0       0.85      0.77      0.81        52\n",
      "           1       0.62      0.74      0.68        27\n",
      "\n",
      "    accuracy                           0.76        79\n",
      "   macro avg       0.74      0.75      0.74        79\n",
      "weighted avg       0.77      0.76      0.76        79\n",
      "\n",
      "[[40 12]\n",
      " [ 7 20]]\n"
     ]
    }
   ],
   "source": [
    "# Compute confusion matrix for test dataset\n",
    "cnf_matrix = confusion_matrix(y_test, yhat, labels=[0,1])\n",
    "np.set_printoptions(precision=2)\n",
    "print (classification_report(y_test, yhat))\n",
    "print(cnf_matrix)\n"
   ]
  },
  {
   "cell_type": "code",
   "execution_count": 27,
   "metadata": {},
   "outputs": [],
   "source": [
    "y_test_prob = model.predict_proba(X_test)[:, 1]"
   ]
  },
  {
   "cell_type": "code",
   "execution_count": 28,
   "metadata": {},
   "outputs": [
    {
     "name": "stdout",
     "output_type": "stream",
     "text": [
      "Area under the ROC curve : 0.849715\n"
     ]
    }
   ],
   "source": [
    "from sklearn.metrics import roc_curve, auc\n",
    "#Compute the ROC Curve\n",
    "fpr, tpr, thresholds = roc_curve(y_test,y_test_prob)\n",
    "roc_auc = auc(fpr, tpr)\n",
    "print (\"Area under the ROC curve : %f\" % roc_auc)"
   ]
  },
  {
   "cell_type": "code",
   "execution_count": 29,
   "metadata": {},
   "outputs": [
    {
     "data": {
      "image/png": "[encoded data removed]",
      "text/plain": [
       "<Figure size 432x288 with 1 Axes>"
      ]
     },
     "metadata": {
      "needs_background": "light"
     },
     "output_type": "display_data"
    }
   ],
   "source": [
    "# Plot ROC curve\n",
    "import pylab as pl\n",
    "pl.clf()\n",
    "pl.plot(fpr, tpr, label='ROC curve (area = %0.2f)' % roc_auc)\n",
    "pl.plot([0, 1], [0, 1], 'r--')\n",
    "pl.xlim([0.0, 1.0])\n",
    "pl.ylim([0.0, 1.0])\n",
    "pl.xlabel('False Positive Rate')\n",
    "pl.ylabel('True Positive Rate')\n",
    "pl.title('Diabetes Example')\n",
    "pl.legend(loc=\"lower right\")\n",
    "pl.show()"
   ]
  }
 ],
 "metadata": {
  "kernelspec": {
   "display_name": "Python 3",
   "language": "python",
   "name": "python3"
  },
  "language_info": {
   "codemirror_mode": {
    "name": "ipython",
    "version": 3
   },
   "file_extension": ".py",
   "mimetype": "text/x-python",
   "name": "python",
   "nbconvert_exporter": "python",
   "pygments_lexer": "ipython3",
   "version": "3.7.4"
  }
 },
 "nbformat": 4,
 "nbformat_minor": 2
}
